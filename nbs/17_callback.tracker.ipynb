{
  "nbformat": 4,
  "nbformat_minor": 0,
  "metadata": {
    "jupytext": {
      "split_at_heading": true
    },
    "kernelspec": {
      "display_name": "Python [conda env:fastai]",
      "language": "python",
      "name": "conda-env-fastai-py"
    },
    "colab": {
      "name": "17_callback.tracker.ipynb",
      "provenance": []
    }
  },
  "cells": [
    {
      "cell_type": "code",
      "metadata": {
        "id": "yEZjiYU7vqJa",
        "outputId": "8410b1fb-db67-42f7-b5b8-a9c79100626f",
        "colab": {
          "base_uri": "https://localhost:8080/"
        }
      },
      "source": [
        "#hide\n",
        "#skip\n",
        "! [ -e /content ] && pip install -Uqq fastai  # upgrade fastai on colab"
      ],
      "execution_count": 1,
      "outputs": [
        {
          "output_type": "stream",
          "text": [
            "\u001b[K     |████████████████████████████████| 186 kB 5.2 MB/s \n",
            "\u001b[K     |████████████████████████████████| 56 kB 2.2 MB/s \n",
            "\u001b[?25h"
          ],
          "name": "stdout"
        }
      ]
    },
    {
      "cell_type": "code",
      "metadata": {
        "id": "D-AprwxbvqJ1"
      },
      "source": [
        "#default_exp callback.tracker"
      ],
      "execution_count": 2,
      "outputs": []
    },
    {
      "cell_type": "code",
      "metadata": {
        "id": "4jyNE-W7vqJ8"
      },
      "source": [
        "#export\n",
        "from fastai.basics import *\n",
        "from fastai.callback.progress import *\n",
        "from fastai.callback.fp16 import MixedPrecision"
      ],
      "execution_count": 3,
      "outputs": []
    },
    {
      "cell_type": "code",
      "metadata": {
        "id": "c9XMLPRevqKD",
        "outputId": "4c0817ce-8be0-4acb-982f-833d965771be",
        "colab": {
          "base_uri": "https://localhost:8080/"
        }
      },
      "source": [
        "#hide\n",
        "!pip install nbdev\n",
        "from nbdev.showdoc import *\n",
        "from fastai.test_utils import *"
      ],
      "execution_count": 7,
      "outputs": [
        {
          "output_type": "stream",
          "text": [
            "Requirement already satisfied: nbdev in /usr/local/lib/python3.7/dist-packages (1.1.22)\n",
            "Requirement already satisfied: pip in /usr/local/lib/python3.7/dist-packages (from nbdev) (21.1.3)\n",
            "Requirement already satisfied: jupyter-client<7.0 in /usr/local/lib/python3.7/dist-packages (from nbdev) (5.3.5)\n",
            "Requirement already satisfied: ipykernel in /usr/local/lib/python3.7/dist-packages (from nbdev) (4.10.1)\n",
            "Requirement already satisfied: jupyter in /usr/local/lib/python3.7/dist-packages (from nbdev) (1.0.0)\n",
            "Requirement already satisfied: pyyaml in /usr/local/lib/python3.7/dist-packages (from nbdev) (3.13)\n",
            "Requirement already satisfied: ghapi in /usr/local/lib/python3.7/dist-packages (from nbdev) (0.1.19)\n",
            "Requirement already satisfied: fastrelease in /usr/local/lib/python3.7/dist-packages (from nbdev) (0.1.12)\n",
            "Requirement already satisfied: nbconvert<6 in /usr/local/lib/python3.7/dist-packages (from nbdev) (5.6.1)\n",
            "Requirement already satisfied: fastcore>=1.3.21 in /usr/local/lib/python3.7/dist-packages (from nbdev) (1.3.26)\n",
            "Requirement already satisfied: nbformat>=4.4.0 in /usr/local/lib/python3.7/dist-packages (from nbdev) (5.1.3)\n",
            "Requirement already satisfied: packaging in /usr/local/lib/python3.7/dist-packages (from nbdev) (21.0)\n",
            "Requirement already satisfied: pyzmq>=13 in /usr/local/lib/python3.7/dist-packages (from jupyter-client<7.0->nbdev) (22.2.1)\n",
            "Requirement already satisfied: tornado>=4.1 in /usr/local/lib/python3.7/dist-packages (from jupyter-client<7.0->nbdev) (5.1.1)\n",
            "Requirement already satisfied: jupyter-core>=4.6.0 in /usr/local/lib/python3.7/dist-packages (from jupyter-client<7.0->nbdev) (4.7.1)\n",
            "Requirement already satisfied: traitlets in /usr/local/lib/python3.7/dist-packages (from jupyter-client<7.0->nbdev) (5.0.5)\n",
            "Requirement already satisfied: python-dateutil>=2.1 in /usr/local/lib/python3.7/dist-packages (from jupyter-client<7.0->nbdev) (2.8.2)\n",
            "Requirement already satisfied: entrypoints>=0.2.2 in /usr/local/lib/python3.7/dist-packages (from nbconvert<6->nbdev) (0.3)\n",
            "Requirement already satisfied: pygments in /usr/local/lib/python3.7/dist-packages (from nbconvert<6->nbdev) (2.6.1)\n",
            "Requirement already satisfied: defusedxml in /usr/local/lib/python3.7/dist-packages (from nbconvert<6->nbdev) (0.7.1)\n",
            "Requirement already satisfied: pandocfilters>=1.4.1 in /usr/local/lib/python3.7/dist-packages (from nbconvert<6->nbdev) (1.4.3)\n",
            "Requirement already satisfied: mistune<2,>=0.8.1 in /usr/local/lib/python3.7/dist-packages (from nbconvert<6->nbdev) (0.8.4)\n",
            "Requirement already satisfied: jinja2>=2.4 in /usr/local/lib/python3.7/dist-packages (from nbconvert<6->nbdev) (2.11.3)\n",
            "Requirement already satisfied: bleach in /usr/local/lib/python3.7/dist-packages (from nbconvert<6->nbdev) (4.0.0)\n",
            "Requirement already satisfied: testpath in /usr/local/lib/python3.7/dist-packages (from nbconvert<6->nbdev) (0.5.0)\n",
            "Requirement already satisfied: MarkupSafe>=0.23 in /usr/local/lib/python3.7/dist-packages (from jinja2>=2.4->nbconvert<6->nbdev) (2.0.1)\n",
            "Requirement already satisfied: ipython-genutils in /usr/local/lib/python3.7/dist-packages (from nbformat>=4.4.0->nbdev) (0.2.0)\n",
            "Requirement already satisfied: jsonschema!=2.5.0,>=2.4 in /usr/local/lib/python3.7/dist-packages (from nbformat>=4.4.0->nbdev) (2.6.0)\n",
            "Requirement already satisfied: six>=1.5 in /usr/local/lib/python3.7/dist-packages (from python-dateutil>=2.1->jupyter-client<7.0->nbdev) (1.15.0)\n",
            "Requirement already satisfied: webencodings in /usr/local/lib/python3.7/dist-packages (from bleach->nbconvert<6->nbdev) (0.5.1)\n",
            "Requirement already satisfied: ipython>=4.0.0 in /usr/local/lib/python3.7/dist-packages (from ipykernel->nbdev) (5.5.0)\n",
            "Requirement already satisfied: pickleshare in /usr/local/lib/python3.7/dist-packages (from ipython>=4.0.0->ipykernel->nbdev) (0.7.5)\n",
            "Requirement already satisfied: simplegeneric>0.8 in /usr/local/lib/python3.7/dist-packages (from ipython>=4.0.0->ipykernel->nbdev) (0.8.1)\n",
            "Requirement already satisfied: decorator in /usr/local/lib/python3.7/dist-packages (from ipython>=4.0.0->ipykernel->nbdev) (4.4.2)\n",
            "Requirement already satisfied: setuptools>=18.5 in /usr/local/lib/python3.7/dist-packages (from ipython>=4.0.0->ipykernel->nbdev) (57.4.0)\n",
            "Requirement already satisfied: prompt-toolkit<2.0.0,>=1.0.4 in /usr/local/lib/python3.7/dist-packages (from ipython>=4.0.0->ipykernel->nbdev) (1.0.18)\n",
            "Requirement already satisfied: pexpect in /usr/local/lib/python3.7/dist-packages (from ipython>=4.0.0->ipykernel->nbdev) (4.8.0)\n",
            "Requirement already satisfied: wcwidth in /usr/local/lib/python3.7/dist-packages (from prompt-toolkit<2.0.0,>=1.0.4->ipython>=4.0.0->ipykernel->nbdev) (0.2.5)\n",
            "Requirement already satisfied: ipywidgets in /usr/local/lib/python3.7/dist-packages (from jupyter->nbdev) (7.6.3)\n",
            "Requirement already satisfied: jupyter-console in /usr/local/lib/python3.7/dist-packages (from jupyter->nbdev) (5.2.0)\n",
            "Requirement already satisfied: qtconsole in /usr/local/lib/python3.7/dist-packages (from jupyter->nbdev) (5.1.1)\n",
            "Requirement already satisfied: notebook in /usr/local/lib/python3.7/dist-packages (from jupyter->nbdev) (5.3.1)\n",
            "Requirement already satisfied: jupyterlab-widgets>=1.0.0 in /usr/local/lib/python3.7/dist-packages (from ipywidgets->jupyter->nbdev) (1.0.0)\n",
            "Requirement already satisfied: widgetsnbextension~=3.5.0 in /usr/local/lib/python3.7/dist-packages (from ipywidgets->jupyter->nbdev) (3.5.1)\n",
            "Requirement already satisfied: terminado>=0.8.1 in /usr/local/lib/python3.7/dist-packages (from notebook->jupyter->nbdev) (0.11.0)\n",
            "Requirement already satisfied: Send2Trash in /usr/local/lib/python3.7/dist-packages (from notebook->jupyter->nbdev) (1.8.0)\n",
            "Requirement already satisfied: ptyprocess in /usr/local/lib/python3.7/dist-packages (from terminado>=0.8.1->notebook->jupyter->nbdev) (0.7.0)\n",
            "Requirement already satisfied: pyparsing>=2.0.2 in /usr/local/lib/python3.7/dist-packages (from packaging->nbdev) (2.4.7)\n",
            "Requirement already satisfied: qtpy in /usr/local/lib/python3.7/dist-packages (from qtconsole->jupyter->nbdev) (1.10.0)\n"
          ],
          "name": "stdout"
        }
      ]
    },
    {
      "cell_type": "markdown",
      "metadata": {
        "id": "8AMuiJ7EvqKR"
      },
      "source": [
        "# Tracking callbacks\n",
        "\n",
        "> Callbacks that make decisions depending how a monitored metric/loss behaves"
      ]
    },
    {
      "cell_type": "markdown",
      "metadata": {
        "id": "qMx0twY0vqKh"
      },
      "source": [
        "## TerminateOnNaNCallback -"
      ]
    },
    {
      "cell_type": "code",
      "metadata": {
        "id": "zEnCZSTBvqKq"
      },
      "source": [
        "# export\n",
        "class TerminateOnNaNCallback(Callback):\n",
        "    \"A `Callback` that terminates training if loss is NaN.\"\n",
        "    order=-9\n",
        "    def after_batch(self):\n",
        "        \"Test if `last_loss` is NaN and interrupts training.\"\n",
        "        if torch.isinf(self.loss) or torch.isnan(self.loss): raise CancelFitException"
      ],
      "execution_count": 8,
      "outputs": []
    },
    {
      "cell_type": "code",
      "metadata": {
        "id": "k4XrvG78vqK0",
        "outputId": "c073ddeb-fbf3-48c7-c55f-37a3740deb40",
        "colab": {
          "base_uri": "https://localhost:8080/",
          "height": 49
        }
      },
      "source": [
        "learn = synth_learner()\n",
        "learn.fit(10, lr=100, cbs=TerminateOnNaNCallback())"
      ],
      "execution_count": 9,
      "outputs": [
        {
          "output_type": "display_data",
          "data": {
            "text/html": [
              "<table border=\"1\" class=\"dataframe\">\n",
              "  <thead>\n",
              "    <tr style=\"text-align: left;\">\n",
              "      <th>epoch</th>\n",
              "      <th>train_loss</th>\n",
              "      <th>valid_loss</th>\n",
              "      <th>time</th>\n",
              "    </tr>\n",
              "  </thead>\n",
              "  <tbody>\n",
              "  </tbody>\n",
              "</table>"
            ],
            "text/plain": [
              "<IPython.core.display.HTML object>"
            ]
          },
          "metadata": {}
        }
      ]
    },
    {
      "cell_type": "code",
      "metadata": {
        "id": "q7HxG1PzvqLC"
      },
      "source": [
        "assert len(learn.recorder.losses) < 10 * len(learn.dls.train)\n",
        "for l in learn.recorder.losses:\n",
        "    assert not torch.isinf(l) and not torch.isnan(l) "
      ],
      "execution_count": 10,
      "outputs": []
    },
    {
      "cell_type": "markdown",
      "metadata": {
        "id": "0lKK0uRIvqLO"
      },
      "source": [
        "## TrackerCallback -"
      ]
    },
    {
      "cell_type": "code",
      "metadata": {
        "id": "sq8prB6qvqLQ"
      },
      "source": [
        "# export\n",
        "class TrackerCallback(Callback):\n",
        "    \"A `Callback` that keeps track of the best value in `monitor`.\"\n",
        "    order,remove_on_fetch = 60,True\n",
        "    def __init__(self, monitor='valid_loss', comp=None, min_delta=0., reset_on_fit=True):\n",
        "        if comp is None: comp = np.less if 'loss' in monitor or 'error' in monitor else np.greater\n",
        "        if comp == np.less: min_delta *= -1\n",
        "        self.monitor,self.comp,self.min_delta,self.reset_on_fit,self.best= monitor,comp,min_delta,reset_on_fit,None\n",
        "\n",
        "    def before_fit(self):\n",
        "        \"Prepare the monitored value\"\n",
        "        self.run = not hasattr(self, \"lr_finder\") and not hasattr(self, \"gather_preds\")\n",
        "        if self.reset_on_fit or self.best is None: self.best = float('inf') if self.comp == np.less else -float('inf')\n",
        "        assert self.monitor in self.recorder.metric_names[1:]\n",
        "        self.idx = list(self.recorder.metric_names[1:]).index(self.monitor)\n",
        "\n",
        "    def after_epoch(self):\n",
        "        \"Compare the last value to the best up to now\"\n",
        "        val = self.recorder.values[-1][self.idx]\n",
        "        if self.comp(val - self.min_delta, self.best): self.best,self.new_best = val,True\n",
        "        else: self.new_best = False\n",
        "\n",
        "    def after_fit(self): self.run=True"
      ],
      "execution_count": 11,
      "outputs": []
    },
    {
      "cell_type": "markdown",
      "metadata": {
        "id": "EX8FH06BvqLT"
      },
      "source": [
        "When implementing a `Callback` that has behavior that depends on the best value of a metric or loss, subclass this `Callback` and use its `best` (for best value so far) and `new_best` (there was a new best value this epoch) attributes. If you want to maintain `best` over subsequent calls to `fit` (e.g., `Learner.fit_one_cycle`), set `reset_on_fit` = True.\n",
        "\n",
        "`comp` is the comparison operator used to determine if a value is best than another (defaults to `np.less` if 'loss' is in the name passed in `monitor`, `np.greater` otherwise) and `min_delta` is an optional float that requires a new value to go over the current best (depending on `comp`) by at least that amount."
      ]
    },
    {
      "cell_type": "code",
      "metadata": {
        "id": "0-kWkzlWvqLX"
      },
      "source": [
        "#hide\n",
        "class FakeRecords(Callback):\n",
        "    order=51\n",
        "    def __init__(self, monitor, values): self.monitor,self.values = monitor,values\n",
        "        \n",
        "    def before_fit(self):   self.idx = list(self.recorder.metric_names[1:]).index(self.monitor)\n",
        "    def after_epoch(self): self.recorder.values[-1][self.idx] = self.values[self.epoch]\n",
        "        \n",
        "class TestTracker(Callback):\n",
        "    order=61\n",
        "    def before_fit(self): self.bests,self.news = [],[]\n",
        "    def after_epoch(self): \n",
        "        self.bests.append(self.tracker.best)\n",
        "        self.news.append(self.tracker.new_best)"
      ],
      "execution_count": 12,
      "outputs": []
    },
    {
      "cell_type": "code",
      "metadata": {
        "id": "0tYHIMVKvqLh",
        "outputId": "fb22bebf-5a20-453c-fa22-75e615b78a38",
        "colab": {
          "base_uri": "https://localhost:8080/",
          "height": 17
        }
      },
      "source": [
        "#hide\n",
        "learn = synth_learner(n_trn=2, cbs=TestTracker())\n",
        "cbs=[TrackerCallback(monitor='valid_loss'), FakeRecords('valid_loss', [0.2,0.1])]\n",
        "with learn.no_logging(): learn.fit(2, cbs=cbs)\n",
        "test_eq(learn.test_tracker.bests, [0.2, 0.1])\n",
        "test_eq(learn.test_tracker.news,  [True,True])\n",
        "\n",
        "#With a min_delta\n",
        "cbs=[TrackerCallback(monitor='valid_loss', min_delta=0.15), FakeRecords('valid_loss', [0.2,0.1])]\n",
        "with learn.no_logging(): learn.fit(2, cbs=cbs)\n",
        "test_eq(learn.test_tracker.bests, [0.2, 0.2])\n",
        "test_eq(learn.test_tracker.news,  [True,False])"
      ],
      "execution_count": 13,
      "outputs": [
        {
          "output_type": "display_data",
          "data": {
            "text/html": [
              ""
            ],
            "text/plain": [
              "<IPython.core.display.HTML object>"
            ]
          },
          "metadata": {}
        },
        {
          "output_type": "display_data",
          "data": {
            "text/html": [
              ""
            ],
            "text/plain": [
              "<IPython.core.display.HTML object>"
            ]
          },
          "metadata": {}
        }
      ]
    },
    {
      "cell_type": "code",
      "metadata": {
        "id": "3xBaouy4vqLl",
        "outputId": "dcfe1a7a-9fde-4c01-b61e-c8f4ee3a6f2f",
        "colab": {
          "base_uri": "https://localhost:8080/",
          "height": 17
        }
      },
      "source": [
        "#hide\n",
        "#By default metrics have to be bigger at each epoch.\n",
        "def tst_metric(out,targ): return F.mse_loss(out,targ)\n",
        "learn = synth_learner(n_trn=2, cbs=TestTracker(), metrics=tst_metric)\n",
        "cbs=[TrackerCallback(monitor='tst_metric'), FakeRecords('tst_metric', [0.2,0.1])]\n",
        "with learn.no_logging(): learn.fit(2, cbs=cbs)\n",
        "test_eq(learn.test_tracker.bests, [0.2, 0.2])\n",
        "test_eq(learn.test_tracker.news,  [True,False])\n",
        "\n",
        "#This can be overwritten by passing `comp=np.less`.\n",
        "learn = synth_learner(n_trn=2, cbs=TestTracker(), metrics=tst_metric)\n",
        "cbs=[TrackerCallback(monitor='tst_metric', comp=np.less), FakeRecords('tst_metric', [0.2,0.1])]\n",
        "with learn.no_logging(): learn.fit(2, cbs=cbs)\n",
        "test_eq(learn.test_tracker.bests, [0.2, 0.1])\n",
        "test_eq(learn.test_tracker.news,  [True,True])"
      ],
      "execution_count": 14,
      "outputs": [
        {
          "output_type": "display_data",
          "data": {
            "text/html": [
              ""
            ],
            "text/plain": [
              "<IPython.core.display.HTML object>"
            ]
          },
          "metadata": {}
        },
        {
          "output_type": "display_data",
          "data": {
            "text/html": [
              ""
            ],
            "text/plain": [
              "<IPython.core.display.HTML object>"
            ]
          },
          "metadata": {}
        }
      ]
    },
    {
      "cell_type": "code",
      "metadata": {
        "id": "myFKtK_HvqLo",
        "outputId": "e856bdfb-2504-4969-bc5d-32a417267777",
        "colab": {
          "base_uri": "https://localhost:8080/",
          "height": 17
        }
      },
      "source": [
        "#hide\n",
        "#Setting reset_on_fit=True will maintain the \"best\" value over subsequent calls to fit\n",
        "learn = synth_learner(n_val=2, cbs=TrackerCallback(monitor='tst_metric', reset_on_fit=False), metrics=tst_metric)\n",
        "tracker_cb = learn.cbs.filter(lambda cb: isinstance(cb, TrackerCallback))[0]\n",
        "with learn.no_logging(): learn.fit(1)\n",
        "first_best = tracker_cb.best\n",
        "with learn.no_logging(): learn.fit(1)\n",
        "test_eq(tracker_cb.best, first_best)"
      ],
      "execution_count": 15,
      "outputs": [
        {
          "output_type": "display_data",
          "data": {
            "text/html": [
              ""
            ],
            "text/plain": [
              "<IPython.core.display.HTML object>"
            ]
          },
          "metadata": {}
        },
        {
          "output_type": "display_data",
          "data": {
            "text/html": [
              ""
            ],
            "text/plain": [
              "<IPython.core.display.HTML object>"
            ]
          },
          "metadata": {}
        }
      ]
    },
    {
      "cell_type": "code",
      "metadata": {
        "id": "46MDb0bfvqLs",
        "outputId": "46ddac25-0792-4508-e291-d266eeb2c056",
        "colab": {
          "base_uri": "https://localhost:8080/",
          "height": 17
        }
      },
      "source": [
        "#hide\n",
        "#A tracker callback is not run during an lr_find\n",
        "from fastai.callback.schedule import *\n",
        "learn = synth_learner(n_trn=2, cbs=TrackerCallback(monitor='tst_metric'), metrics=tst_metric)\n",
        "learn.lr_find(num_it=15, show_plot=False)\n",
        "assert not hasattr(learn, 'new_best')"
      ],
      "execution_count": 16,
      "outputs": [
        {
          "output_type": "display_data",
          "data": {
            "text/html": [
              ""
            ],
            "text/plain": [
              "<IPython.core.display.HTML object>"
            ]
          },
          "metadata": {}
        }
      ]
    },
    {
      "cell_type": "markdown",
      "metadata": {
        "id": "nSVo5RKJvqL0"
      },
      "source": [
        "## EarlyStoppingCallback -"
      ]
    },
    {
      "cell_type": "code",
      "metadata": {
        "id": "KqZ6bQJwvqL5"
      },
      "source": [
        "# export\n",
        "class EarlyStoppingCallback(TrackerCallback):\n",
        "    \"A `TrackerCallback` that terminates training when monitored quantity stops improving.\"\n",
        "    order=TrackerCallback.order+3\n",
        "    def __init__(self, monitor='valid_loss', comp=None, min_delta=0., patience=1, reset_on_fit=True):\n",
        "        super().__init__(monitor=monitor, comp=comp, min_delta=min_delta, reset_on_fit=reset_on_fit)\n",
        "        self.patience = patience\n",
        "\n",
        "    def before_fit(self): self.wait = 0; super().before_fit()\n",
        "    def after_epoch(self):\n",
        "        \"Compare the value monitored to its best score and maybe stop training.\"\n",
        "        super().after_epoch()\n",
        "        if self.new_best: self.wait = 0\n",
        "        else:\n",
        "            self.wait += 1\n",
        "            if self.wait >= self.patience:\n",
        "                print(f'No improvement since epoch {self.epoch-self.wait}: early stopping')\n",
        "                raise CancelFitException()"
      ],
      "execution_count": 17,
      "outputs": []
    },
    {
      "cell_type": "markdown",
      "metadata": {
        "id": "iLwfsi0_vqL9"
      },
      "source": [
        "`comp` is the comparison operator used to determine if a value is best than another (defaults to `np.less` if 'loss' is in the name passed in `monitor`, `np.greater` otherwise) and `min_delta` is an optional float that requires a new value to go over the current best (depending on `comp`) by at least that amount. `patience` is the number of epochs you're willing to wait without improvement."
      ]
    },
    {
      "cell_type": "code",
      "metadata": {
        "id": "-o8pqbasvqMB",
        "outputId": "89ae7eee-a677-449a-c6af-c7df6f7a771d",
        "colab": {
          "base_uri": "https://localhost:8080/",
          "height": 161
        }
      },
      "source": [
        "learn = synth_learner(n_trn=2, metrics=F.mse_loss)\n",
        "learn.fit(n_epoch=200, lr=1e-7, cbs=EarlyStoppingCallback(monitor='mse_loss', min_delta=0.1, patience=2))"
      ],
      "execution_count": 18,
      "outputs": [
        {
          "output_type": "display_data",
          "data": {
            "text/html": [
              "<table border=\"1\" class=\"dataframe\">\n",
              "  <thead>\n",
              "    <tr style=\"text-align: left;\">\n",
              "      <th>epoch</th>\n",
              "      <th>train_loss</th>\n",
              "      <th>valid_loss</th>\n",
              "      <th>mse_loss</th>\n",
              "      <th>time</th>\n",
              "    </tr>\n",
              "  </thead>\n",
              "  <tbody>\n",
              "    <tr>\n",
              "      <td>0</td>\n",
              "      <td>9.415519</td>\n",
              "      <td>12.050176</td>\n",
              "      <td>12.050176</td>\n",
              "      <td>00:00</td>\n",
              "    </tr>\n",
              "    <tr>\n",
              "      <td>1</td>\n",
              "      <td>9.414772</td>\n",
              "      <td>12.050149</td>\n",
              "      <td>12.050149</td>\n",
              "      <td>00:00</td>\n",
              "    </tr>\n",
              "    <tr>\n",
              "      <td>2</td>\n",
              "      <td>9.407496</td>\n",
              "      <td>12.050110</td>\n",
              "      <td>12.050110</td>\n",
              "      <td>00:00</td>\n",
              "    </tr>\n",
              "  </tbody>\n",
              "</table>"
            ],
            "text/plain": [
              "<IPython.core.display.HTML object>"
            ]
          },
          "metadata": {}
        },
        {
          "output_type": "stream",
          "text": [
            "No improvement since epoch 0: early stopping\n"
          ],
          "name": "stdout"
        }
      ]
    },
    {
      "cell_type": "code",
      "metadata": {
        "id": "ZG74Tn4pvqMD",
        "outputId": "5ddc7206-dcf1-4ece-b2cb-d1e6d9d309fc",
        "colab": {
          "base_uri": "https://localhost:8080/",
          "height": 34
        }
      },
      "source": [
        "learn.validate()"
      ],
      "execution_count": 19,
      "outputs": [
        {
          "output_type": "display_data",
          "data": {
            "text/html": [
              ""
            ],
            "text/plain": [
              "<IPython.core.display.HTML object>"
            ]
          },
          "metadata": {}
        },
        {
          "output_type": "execute_result",
          "data": {
            "text/plain": [
              "(#2) [12.05010986328125,12.05010986328125]"
            ]
          },
          "metadata": {},
          "execution_count": 19
        }
      ]
    },
    {
      "cell_type": "code",
      "metadata": {
        "id": "vbaWvdexvqMF",
        "outputId": "f317dfd4-aae5-4ae4-fcbc-201193bcb1de",
        "colab": {
          "base_uri": "https://localhost:8080/",
          "height": 161
        }
      },
      "source": [
        "learn = synth_learner(n_trn=2)\n",
        "learn.fit(n_epoch=200, lr=1e-7, cbs=EarlyStoppingCallback(monitor='valid_loss', min_delta=0.1, patience=2))"
      ],
      "execution_count": 20,
      "outputs": [
        {
          "output_type": "display_data",
          "data": {
            "text/html": [
              "<table border=\"1\" class=\"dataframe\">\n",
              "  <thead>\n",
              "    <tr style=\"text-align: left;\">\n",
              "      <th>epoch</th>\n",
              "      <th>train_loss</th>\n",
              "      <th>valid_loss</th>\n",
              "      <th>time</th>\n",
              "    </tr>\n",
              "  </thead>\n",
              "  <tbody>\n",
              "    <tr>\n",
              "      <td>0</td>\n",
              "      <td>13.198256</td>\n",
              "      <td>24.819271</td>\n",
              "      <td>00:00</td>\n",
              "    </tr>\n",
              "    <tr>\n",
              "      <td>1</td>\n",
              "      <td>13.227701</td>\n",
              "      <td>24.819225</td>\n",
              "      <td>00:00</td>\n",
              "    </tr>\n",
              "    <tr>\n",
              "      <td>2</td>\n",
              "      <td>13.220333</td>\n",
              "      <td>24.819151</td>\n",
              "      <td>00:00</td>\n",
              "    </tr>\n",
              "  </tbody>\n",
              "</table>"
            ],
            "text/plain": [
              "<IPython.core.display.HTML object>"
            ]
          },
          "metadata": {}
        },
        {
          "output_type": "stream",
          "text": [
            "No improvement since epoch 0: early stopping\n"
          ],
          "name": "stdout"
        }
      ]
    },
    {
      "cell_type": "code",
      "metadata": {
        "id": "1W_OXR7_vqMH"
      },
      "source": [
        "#hide\n",
        "test_eq(len(learn.recorder.values), 3)"
      ],
      "execution_count": 21,
      "outputs": []
    },
    {
      "cell_type": "markdown",
      "metadata": {
        "id": "N1T3jV_JvqMI"
      },
      "source": [
        "## SaveModelCallback -"
      ]
    },
    {
      "cell_type": "code",
      "metadata": {
        "id": "pSjcBhKGvqMK"
      },
      "source": [
        "#export\n",
        "class SaveModelCallback(TrackerCallback):\n",
        "    \"A `TrackerCallback` that saves the model's best during training and loads it at the end.\"\n",
        "    _only_train_loop,order = True,TrackerCallback.order+1\n",
        "    def __init__(self, monitor='valid_loss', comp=None, min_delta=0., fname='model', every_epoch=False, at_end=False,\n",
        "                 with_opt=False, reset_on_fit=True):\n",
        "        super().__init__(monitor=monitor, comp=comp, min_delta=min_delta, reset_on_fit=reset_on_fit)\n",
        "        assert not (every_epoch and at_end), \"every_epoch and at_end cannot both be set to True\"\n",
        "        # keep track of file path for loggers\n",
        "        self.last_saved_path = None\n",
        "        store_attr('fname,every_epoch,at_end,with_opt')\n",
        "\n",
        "    def _save(self, name): self.last_saved_path = self.learn.save(name, with_opt=self.with_opt)\n",
        "\n",
        "    def after_epoch(self):\n",
        "        \"Compare the value monitored to its best score and save if best.\"\n",
        "        if self.every_epoch:\n",
        "            if (self.epoch%self.every_epoch) == 0: self._save(f'{self.fname}_{self.epoch}')\n",
        "        else: #every improvement\n",
        "            super().after_epoch()\n",
        "            if self.new_best:\n",
        "                print(f'Better model found at epoch {self.epoch} with {self.monitor} value: {self.best}.')\n",
        "                self._save(f'{self.fname}')\n",
        "\n",
        "    def after_fit(self, **kwargs):\n",
        "        \"Load the best model.\"\n",
        "        if self.at_end: self._save(f'{self.fname}')\n",
        "        elif not self.every_epoch: self.learn.load(f'{self.fname}', with_opt=self.with_opt)"
      ],
      "execution_count": 23,
      "outputs": []
    },
    {
      "cell_type": "markdown",
      "metadata": {
        "id": "Q9HDB0PVvqMM"
      },
      "source": [
        "`comp` is the comparison operator used to determine if a value is best than another (defaults to `np.less` if 'loss' is in the name passed in `monitor`, `np.greater` otherwise) and `min_delta` is an optional float that requires a new value to go over the current best (depending on `comp`) by at least that amount. Model will be saved in `learn.path/learn.model_dir/name.pth`, maybe `every_epoch` if `True`, every nth epoch if an integer is passed to `every_epoch` or at each improvement of the monitored quantity. "
      ]
    },
    {
      "cell_type": "code",
      "metadata": {
        "id": "cya3vtQbvqMN",
        "outputId": "e10c5da0-daeb-4226-dfcc-ead24b096939",
        "colab": {
          "base_uri": "https://localhost:8080/",
          "height": 146
        }
      },
      "source": [
        "learn = synth_learner(n_trn=2, path=Path.cwd()/'tmp')\n",
        "learn.fit(n_epoch=2, cbs=SaveModelCallback())\n",
        "assert (Path.cwd()/'tmp/models/model.pth').exists()\n",
        "\n"
      ],
      "execution_count": 24,
      "outputs": [
        {
          "output_type": "display_data",
          "data": {
            "text/html": [
              "<table border=\"1\" class=\"dataframe\">\n",
              "  <thead>\n",
              "    <tr style=\"text-align: left;\">\n",
              "      <th>epoch</th>\n",
              "      <th>train_loss</th>\n",
              "      <th>valid_loss</th>\n",
              "      <th>time</th>\n",
              "    </tr>\n",
              "  </thead>\n",
              "  <tbody>\n",
              "    <tr>\n",
              "      <td>0</td>\n",
              "      <td>18.490496</td>\n",
              "      <td>13.492092</td>\n",
              "      <td>00:00</td>\n",
              "    </tr>\n",
              "    <tr>\n",
              "      <td>1</td>\n",
              "      <td>18.302519</td>\n",
              "      <td>13.070851</td>\n",
              "      <td>00:00</td>\n",
              "    </tr>\n",
              "  </tbody>\n",
              "</table>"
            ],
            "text/plain": [
              "<IPython.core.display.HTML object>"
            ]
          },
          "metadata": {}
        },
        {
          "output_type": "stream",
          "text": [
            "Better model found at epoch 0 with valid_loss value: 13.49209213256836.\n",
            "Better model found at epoch 1 with valid_loss value: 13.07085132598877.\n"
          ],
          "name": "stdout"
        }
      ]
    },
    {
      "cell_type": "code",
      "metadata": {
        "id": "pwHouDJRdNDk",
        "outputId": "37a797b5-0a9f-42b9-a253-ba7af17fa294",
        "colab": {
          "base_uri": "https://localhost:8080/",
          "height": 146
        }
      },
      "source": [
        "\n",
        "learn = synth_learner(n_trn=2, path=Path.cwd()/'tmp')\n",
        "learn.fit(n_epoch=2, cbs=SaveModelCallback(fname='end',at_end=True))\n",
        "assert (Path.cwd()/'tmp/models/end.pth').exists()"
      ],
      "execution_count": 25,
      "outputs": [
        {
          "output_type": "display_data",
          "data": {
            "text/html": [
              "<table border=\"1\" class=\"dataframe\">\n",
              "  <thead>\n",
              "    <tr style=\"text-align: left;\">\n",
              "      <th>epoch</th>\n",
              "      <th>train_loss</th>\n",
              "      <th>valid_loss</th>\n",
              "      <th>time</th>\n",
              "    </tr>\n",
              "  </thead>\n",
              "  <tbody>\n",
              "    <tr>\n",
              "      <td>0</td>\n",
              "      <td>15.673099</td>\n",
              "      <td>13.155073</td>\n",
              "      <td>00:00</td>\n",
              "    </tr>\n",
              "    <tr>\n",
              "      <td>1</td>\n",
              "      <td>15.519037</td>\n",
              "      <td>12.740019</td>\n",
              "      <td>00:00</td>\n",
              "    </tr>\n",
              "  </tbody>\n",
              "</table>"
            ],
            "text/plain": [
              "<IPython.core.display.HTML object>"
            ]
          },
          "metadata": {}
        },
        {
          "output_type": "stream",
          "text": [
            "Better model found at epoch 0 with valid_loss value: 13.155073165893555.\n",
            "Better model found at epoch 1 with valid_loss value: 12.740018844604492.\n"
          ],
          "name": "stdout"
        }
      ]
    },
    {
      "cell_type": "code",
      "metadata": {
        "id": "wUIhF4RZc65s",
        "outputId": "843fd4bf-566a-459e-ea2d-303d3cd1ade3",
        "colab": {
          "base_uri": "https://localhost:8080/",
          "height": 112
        }
      },
      "source": [
        "\n",
        "learn.fit(n_epoch=2, cbs=SaveModelCallback(every_epoch=True))\n",
        "for i in range(2): assert (Path.cwd()/f'tmp/models/model_{i}.pth').exists()\n",
        "shutil.rmtree(Path.cwd()/'tmp')\n"
      ],
      "execution_count": 26,
      "outputs": [
        {
          "output_type": "display_data",
          "data": {
            "text/html": [
              "<table border=\"1\" class=\"dataframe\">\n",
              "  <thead>\n",
              "    <tr style=\"text-align: left;\">\n",
              "      <th>epoch</th>\n",
              "      <th>train_loss</th>\n",
              "      <th>valid_loss</th>\n",
              "      <th>time</th>\n",
              "    </tr>\n",
              "  </thead>\n",
              "  <tbody>\n",
              "    <tr>\n",
              "      <td>0</td>\n",
              "      <td>14.850997</td>\n",
              "      <td>12.178272</td>\n",
              "      <td>00:00</td>\n",
              "    </tr>\n",
              "    <tr>\n",
              "      <td>1</td>\n",
              "      <td>14.499427</td>\n",
              "      <td>11.505001</td>\n",
              "      <td>00:00</td>\n",
              "    </tr>\n",
              "  </tbody>\n",
              "</table>"
            ],
            "text/plain": [
              "<IPython.core.display.HTML object>"
            ]
          },
          "metadata": {}
        }
      ]
    },
    {
      "cell_type": "code",
      "metadata": {
        "id": "V6cDqYFCdTDi",
        "outputId": "8707ec87-c2bf-4071-9700-0680598d63b1",
        "colab": {
          "base_uri": "https://localhost:8080/",
          "height": 174
        }
      },
      "source": [
        "\n",
        "learn.fit(n_epoch=4, cbs=SaveModelCallback(every_epoch=2))\n",
        "for i in range(4): \n",
        "    if not i%2: assert (Path.cwd()/f'tmp/models/model_{i}.pth').exists()\n",
        "    else:       assert not (Path.cwd()/f'tmp/models/model_{i}.pth').exists()\n",
        "shutil.rmtree(Path.cwd()/'tmp')"
      ],
      "execution_count": 27,
      "outputs": [
        {
          "output_type": "display_data",
          "data": {
            "text/html": [
              "<table border=\"1\" class=\"dataframe\">\n",
              "  <thead>\n",
              "    <tr style=\"text-align: left;\">\n",
              "      <th>epoch</th>\n",
              "      <th>train_loss</th>\n",
              "      <th>valid_loss</th>\n",
              "      <th>time</th>\n",
              "    </tr>\n",
              "  </thead>\n",
              "  <tbody>\n",
              "    <tr>\n",
              "      <td>0</td>\n",
              "      <td>13.353041</td>\n",
              "      <td>10.761873</td>\n",
              "      <td>00:00</td>\n",
              "    </tr>\n",
              "    <tr>\n",
              "      <td>1</td>\n",
              "      <td>12.900529</td>\n",
              "      <td>9.984089</td>\n",
              "      <td>00:00</td>\n",
              "    </tr>\n",
              "    <tr>\n",
              "      <td>2</td>\n",
              "      <td>12.430864</td>\n",
              "      <td>9.195103</td>\n",
              "      <td>00:00</td>\n",
              "    </tr>\n",
              "    <tr>\n",
              "      <td>3</td>\n",
              "      <td>11.957170</td>\n",
              "      <td>8.401920</td>\n",
              "      <td>00:00</td>\n",
              "    </tr>\n",
              "  </tbody>\n",
              "</table>"
            ],
            "text/plain": [
              "<IPython.core.display.HTML object>"
            ]
          },
          "metadata": {}
        }
      ]
    },
    {
      "cell_type": "markdown",
      "metadata": {
        "id": "RIJLU3jkvqMT"
      },
      "source": [
        "## ReduceLROnPlateau"
      ]
    },
    {
      "cell_type": "code",
      "metadata": {
        "id": "jUBrosUMvqMU"
      },
      "source": [
        "# export\n",
        "class ReduceLROnPlateau(TrackerCallback):\n",
        "    \"A `TrackerCallback` that reduces learning rate when a metric has stopped improving.\"\n",
        "    order=TrackerCallback.order+2\n",
        "    def __init__(self, monitor='valid_loss', comp=None, min_delta=0., patience=1, factor=10., min_lr=0, reset_on_fit=True):\n",
        "        super().__init__(monitor=monitor, comp=comp, min_delta=min_delta, reset_on_fit=reset_on_fit)\n",
        "        self.patience,self.factor,self.min_lr = patience,factor,min_lr\n",
        "\n",
        "    def before_fit(self): self.wait = 0; super().before_fit()\n",
        "    def after_epoch(self):\n",
        "        \"Compare the value monitored to its best score and reduce LR by `factor` if no improvement.\"\n",
        "        super().after_epoch()\n",
        "        if self.new_best: self.wait = 0\n",
        "        else:\n",
        "            self.wait += 1\n",
        "            if self.wait >= self.patience:\n",
        "                old_lr = self.opt.hypers[-1]['lr']\n",
        "                for h in self.opt.hypers: h['lr'] = max(h['lr'] / self.factor, self.min_lr)\n",
        "                self.wait = 0\n",
        "                if self.opt.hypers[-1][\"lr\"] < old_lr:\n",
        "                    print(f'Epoch {self.epoch}: reducing lr to {self.opt.hypers[-1][\"lr\"]}')"
      ],
      "execution_count": null,
      "outputs": []
    },
    {
      "cell_type": "code",
      "metadata": {
        "id": "RMualff5vqMW",
        "outputId": "e1414026-08f6-410d-e2fa-8ed44cdb3ac1"
      },
      "source": [
        "learn = synth_learner(n_trn=2)\n",
        "learn.fit(n_epoch=4, lr=1e-7, cbs=ReduceLROnPlateau(monitor='valid_loss', min_delta=0.1, patience=2))"
      ],
      "execution_count": null,
      "outputs": [
        {
          "data": {
            "text/html": [
              "<table border=\"1\" class=\"dataframe\">\n",
              "  <thead>\n",
              "    <tr style=\"text-align: left;\">\n",
              "      <th>epoch</th>\n",
              "      <th>train_loss</th>\n",
              "      <th>valid_loss</th>\n",
              "      <th>time</th>\n",
              "    </tr>\n",
              "  </thead>\n",
              "  <tbody>\n",
              "    <tr>\n",
              "      <td>0</td>\n",
              "      <td>6.122743</td>\n",
              "      <td>7.348515</td>\n",
              "      <td>00:00</td>\n",
              "    </tr>\n",
              "    <tr>\n",
              "      <td>1</td>\n",
              "      <td>6.119377</td>\n",
              "      <td>7.348499</td>\n",
              "      <td>00:00</td>\n",
              "    </tr>\n",
              "    <tr>\n",
              "      <td>2</td>\n",
              "      <td>6.125790</td>\n",
              "      <td>7.348477</td>\n",
              "      <td>00:00</td>\n",
              "    </tr>\n",
              "    <tr>\n",
              "      <td>3</td>\n",
              "      <td>6.131386</td>\n",
              "      <td>7.348475</td>\n",
              "      <td>00:00</td>\n",
              "    </tr>\n",
              "  </tbody>\n",
              "</table>"
            ],
            "text/plain": [
              "<IPython.core.display.HTML object>"
            ]
          },
          "metadata": {},
          "output_type": "display_data"
        },
        {
          "name": "stdout",
          "output_type": "stream",
          "text": [
            "Epoch 2: reducing lr to 1e-08\n"
          ]
        }
      ]
    },
    {
      "cell_type": "code",
      "metadata": {
        "id": "0PgqwV7CvqMX"
      },
      "source": [
        "#hide\n",
        "test_eq(learn.opt.hypers[-1]['lr'], 1e-8)"
      ],
      "execution_count": null,
      "outputs": []
    },
    {
      "cell_type": "code",
      "metadata": {
        "id": "5zSqy1pUvqMZ",
        "outputId": "72005c00-bf4e-49a6-b115-7842ba1908d0"
      },
      "source": [
        "learn = synth_learner(n_trn=2)\n",
        "learn.fit(n_epoch=6, lr=5e-8, cbs=ReduceLROnPlateau(monitor='valid_loss', min_delta=0.1, patience=2, min_lr=1e-8))"
      ],
      "execution_count": null,
      "outputs": [
        {
          "data": {
            "text/html": [
              "<table border=\"1\" class=\"dataframe\">\n",
              "  <thead>\n",
              "    <tr style=\"text-align: left;\">\n",
              "      <th>epoch</th>\n",
              "      <th>train_loss</th>\n",
              "      <th>valid_loss</th>\n",
              "      <th>time</th>\n",
              "    </tr>\n",
              "  </thead>\n",
              "  <tbody>\n",
              "    <tr>\n",
              "      <td>0</td>\n",
              "      <td>16.747515</td>\n",
              "      <td>15.265999</td>\n",
              "      <td>00:00</td>\n",
              "    </tr>\n",
              "    <tr>\n",
              "      <td>1</td>\n",
              "      <td>16.725756</td>\n",
              "      <td>15.265974</td>\n",
              "      <td>00:00</td>\n",
              "    </tr>\n",
              "    <tr>\n",
              "      <td>2</td>\n",
              "      <td>16.735016</td>\n",
              "      <td>15.265943</td>\n",
              "      <td>00:00</td>\n",
              "    </tr>\n",
              "    <tr>\n",
              "      <td>3</td>\n",
              "      <td>16.733360</td>\n",
              "      <td>15.265934</td>\n",
              "      <td>00:00</td>\n",
              "    </tr>\n",
              "    <tr>\n",
              "      <td>4</td>\n",
              "      <td>16.733513</td>\n",
              "      <td>15.265925</td>\n",
              "      <td>00:00</td>\n",
              "    </tr>\n",
              "    <tr>\n",
              "      <td>5</td>\n",
              "      <td>16.730352</td>\n",
              "      <td>15.265915</td>\n",
              "      <td>00:00</td>\n",
              "    </tr>\n",
              "  </tbody>\n",
              "</table>"
            ],
            "text/plain": [
              "<IPython.core.display.HTML object>"
            ]
          },
          "metadata": {},
          "output_type": "display_data"
        },
        {
          "name": "stdout",
          "output_type": "stream",
          "text": [
            "Epoch 2: reducing lr to 1e-08\n"
          ]
        }
      ]
    },
    {
      "cell_type": "code",
      "metadata": {
        "id": "tNoLyg1nvqMc"
      },
      "source": [
        "#hide\n",
        "test_eq(learn.opt.hypers[-1]['lr'], 1e-8)"
      ],
      "execution_count": null,
      "outputs": []
    },
    {
      "cell_type": "markdown",
      "metadata": {
        "id": "Ss8pzCm7vqMd"
      },
      "source": [
        "Each of these three derived `TrackerCallback`s (`SaveModelCallback`, `ReduceLROnPlateu`, and `EarlyStoppingCallback`) all have an adjusted order so they can each run with each other without interference. That order is as follows:\n",
        "\n",
        "> Note: in parenthesis is the actual `Callback` order number\n",
        "\n",
        "1. `TrackerCallback` (60)\n",
        "2. `SaveModelCallback` (61)\n",
        "3. `ReduceLrOnPlateu` (62)\n",
        "4. `EarlyStoppingCallback` (63)"
      ]
    },
    {
      "cell_type": "markdown",
      "metadata": {
        "id": "8LzqAHk_vqMe"
      },
      "source": [
        "## Export -"
      ]
    },
    {
      "cell_type": "code",
      "metadata": {
        "id": "MsvKasWlvqMf",
        "outputId": "96906a58-b57b-4237-da7a-9422c7df1d77"
      },
      "source": [
        "#hide\n",
        "from nbdev.export import notebook2script\n",
        "notebook2script()"
      ],
      "execution_count": null,
      "outputs": [
        {
          "name": "stdout",
          "output_type": "stream",
          "text": [
            "Converted 00_torch_core.ipynb.\n",
            "Converted 01_layers.ipynb.\n",
            "Converted 01a_losses.ipynb.\n",
            "Converted 02_data.load.ipynb.\n",
            "Converted 03_data.core.ipynb.\n",
            "Converted 04_data.external.ipynb.\n",
            "Converted 05_data.transforms.ipynb.\n",
            "Converted 06_data.block.ipynb.\n",
            "Converted 07_vision.core.ipynb.\n",
            "Converted 08_vision.data.ipynb.\n",
            "Converted 09_vision.augment.ipynb.\n",
            "Converted 09b_vision.utils.ipynb.\n",
            "Converted 09c_vision.widgets.ipynb.\n",
            "Converted 10_tutorial.pets.ipynb.\n",
            "Converted 10b_tutorial.albumentations.ipynb.\n",
            "Converted 11_vision.models.xresnet.ipynb.\n",
            "Converted 12_optimizer.ipynb.\n",
            "Converted 13_callback.core.ipynb.\n",
            "Converted 13a_learner.ipynb.\n",
            "Converted 13b_metrics.ipynb.\n",
            "Converted 14_callback.schedule.ipynb.\n",
            "Converted 14a_callback.data.ipynb.\n",
            "Converted 15_callback.hook.ipynb.\n",
            "Converted 15a_vision.models.unet.ipynb.\n",
            "Converted 16_callback.progress.ipynb.\n",
            "Converted 17_callback.tracker.ipynb.\n",
            "Converted 18_callback.fp16.ipynb.\n",
            "Converted 18a_callback.training.ipynb.\n",
            "Converted 18b_callback.preds.ipynb.\n",
            "Converted 19_callback.mixup.ipynb.\n",
            "Converted 20_interpret.ipynb.\n",
            "Converted 20a_distributed.ipynb.\n",
            "Converted 21_vision.learner.ipynb.\n",
            "Converted 22_tutorial.imagenette.ipynb.\n",
            "Converted 23_tutorial.vision.ipynb.\n",
            "Converted 24_tutorial.siamese.ipynb.\n",
            "Converted 24_vision.gan.ipynb.\n",
            "Converted 30_text.core.ipynb.\n",
            "Converted 31_text.data.ipynb.\n",
            "Converted 32_text.models.awdlstm.ipynb.\n",
            "Converted 33_text.models.core.ipynb.\n",
            "Converted 34_callback.rnn.ipynb.\n",
            "Converted 35_tutorial.wikitext.ipynb.\n",
            "Converted 36_text.models.qrnn.ipynb.\n",
            "Converted 37_text.learner.ipynb.\n",
            "Converted 38_tutorial.text.ipynb.\n",
            "Converted 39_tutorial.transformers.ipynb.\n",
            "Converted 40_tabular.core.ipynb.\n",
            "Converted 41_tabular.data.ipynb.\n",
            "Converted 42_tabular.model.ipynb.\n",
            "Converted 43_tabular.learner.ipynb.\n",
            "Converted 44_tutorial.tabular.ipynb.\n",
            "Converted 45_collab.ipynb.\n",
            "Converted 46_tutorial.collab.ipynb.\n",
            "Converted 50_tutorial.datablock.ipynb.\n",
            "Converted 60_medical.imaging.ipynb.\n",
            "Converted 61_tutorial.medical_imaging.ipynb.\n",
            "Converted 65_medical.text.ipynb.\n",
            "Converted 70_callback.wandb.ipynb.\n",
            "Converted 71_callback.tensorboard.ipynb.\n",
            "Converted 72_callback.neptune.ipynb.\n",
            "Converted 73_callback.captum.ipynb.\n",
            "Converted 74_callback.azureml.ipynb.\n",
            "Converted 97_test_utils.ipynb.\n",
            "Converted 99_pytorch_doc.ipynb.\n",
            "Converted dev-setup.ipynb.\n",
            "Converted index.ipynb.\n",
            "Converted quick_start.ipynb.\n",
            "Converted tutorial.ipynb.\n"
          ]
        }
      ]
    },
    {
      "cell_type": "code",
      "metadata": {
        "id": "L3G6pyXAvqMg"
      },
      "source": [
        ""
      ],
      "execution_count": null,
      "outputs": []
    }
  ]
}