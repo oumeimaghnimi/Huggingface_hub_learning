{
  "nbformat": 4,
  "nbformat_minor": 0,
  "metadata": {
    "colab": {
      "name": "huggingface_transformers_courses.ipynb",
      "provenance": [],
      "collapsed_sections": [],
      "authorship_tag": "ABX9TyMsyTMfMRJdeSq7WfYZsRz9",
      "include_colab_link": true
    },
    "kernelspec": {
      "name": "python3",
      "display_name": "Python 3"
    },
    "language_info": {
      "name": "python"
    }
  },
  "cells": [
    {
      "cell_type": "markdown",
      "metadata": {
        "id": "view-in-github",
        "colab_type": "text"
      },
      "source": [
        "<a href=\"https://colab.research.google.com/github/oumeimaghnimi/Huggingface_hub_learning/blob/master/huggingface_transformers_courses.ipynb\" target=\"_parent\"><img src=\"https://colab.research.google.com/assets/colab-badge.svg\" alt=\"Open In Colab\"/></a>"
      ]
    },
    {
      "cell_type": "markdown",
      "metadata": {
        "id": "JUYgtNYwqVky"
      },
      "source": [
        "## work environment construction to get rid for sparse commands\n",
        "## handle the WARNING: Running pip as the 'root' user can result in broken permissions and conflicting behaviour with the system package manager. It is recommended to use a virtual environment instead: https://pip.pypa.io/warnings/venv\n",
        "\n"
      ]
    },
    {
      "cell_type": "code",
      "metadata": {
        "colab": {
          "base_uri": "https://localhost:8080/"
        },
        "id": "qbko2pho2rzY",
        "outputId": "3541942c-eb82-4946-9a13-3d36425cab0b"
      },
      "source": [
        "!ls -a"
      ],
      "execution_count": 43,
      "outputs": [
        {
          "output_type": "stream",
          "text": [
            ".  ..  .config\tsample_data  theanoEnv\t.tutorial-huggingface  venv\n"
          ],
          "name": "stdout"
        }
      ]
    },
    {
      "cell_type": "code",
      "metadata": {
        "colab": {
          "base_uri": "https://localhost:8080/"
        },
        "id": "AJ1p7DqE2yHs",
        "outputId": "03a0b5f1-e46e-44b8-8a8b-c676015a1ea5"
      },
      "source": [
        "#rm -r  venv  "
      ],
      "execution_count": 44,
      "outputs": [
        {
          "output_type": "stream",
          "text": [
            "rm: cannot remove 'source_theanoEnv.sh': No such file or directory\n"
          ],
          "name": "stdout"
        }
      ]
    },
    {
      "cell_type": "code",
      "metadata": {
        "colab": {
          "base_uri": "https://localhost:8080/"
        },
        "id": "iH5sugwQ28zo",
        "outputId": "a3b27897-1b16-4331-984c-857dedb890d0"
      },
      "source": [
        "!ls -a"
      ],
      "execution_count": 45,
      "outputs": [
        {
          "output_type": "stream",
          "text": [
            ".  ..  .config\tsample_data  theanoEnv\t.tutorial-huggingface\n"
          ],
          "name": "stdout"
        }
      ]
    },
    {
      "cell_type": "code",
      "metadata": {
        "id": "JBRwiW0P8p6V"
      },
      "source": [
        "#cd .."
      ],
      "execution_count": null,
      "outputs": []
    },
    {
      "cell_type": "code",
      "metadata": {
        "id": "7VY27lAk896h"
      },
      "source": [
        "#rm -r tutorial-huggingface"
      ],
      "execution_count": 101,
      "outputs": []
    },
    {
      "cell_type": "code",
      "metadata": {
        "colab": {
          "base_uri": "https://localhost:8080/",
          "height": 35
        },
        "id": "eK5-nDnL6R_y",
        "outputId": "051b14b6-b213-49e6-9b93-2e5010c5d95b"
      },
      "source": [
        "import os\n",
        "os.getcwd()"
      ],
      "execution_count": 4,
      "outputs": [
        {
          "output_type": "execute_result",
          "data": {
            "application/vnd.google.colaboratory.intrinsic+json": {
              "type": "string"
            },
            "text/plain": [
              "'/content'"
            ]
          },
          "metadata": {},
          "execution_count": 4
        }
      ]
    },
    {
      "cell_type": "code",
      "metadata": {
        "colab": {
          "base_uri": "https://localhost:8080/"
        },
        "id": "v-xf4imL6xQL",
        "outputId": "09a178f9-8d0a-4504-a326-00746fd489fc"
      },
      "source": [
        "#!mkdir /content/huggingfacelearningcola\n",
        "\n",
        "#!cd ~/huggingfacelearningcola\n",
        "#!rm -r /content/huggingfacelearningcola\n",
        "!mkdir /content/huggingfacelearningcolab\n",
        "os.listdir('/content')"
      ],
      "execution_count": 5,
      "outputs": [
        {
          "output_type": "stream",
          "text": [
            "mkdir: cannot create directory ‘/content/huggingfacelearningcolab’: File exists\n"
          ],
          "name": "stdout"
        },
        {
          "output_type": "execute_result",
          "data": {
            "text/plain": [
              "['.config', 'huggingfacelearningcolab', 'sample_data']"
            ]
          },
          "metadata": {},
          "execution_count": 5
        }
      ]
    },
    {
      "cell_type": "code",
      "metadata": {
        "colab": {
          "base_uri": "https://localhost:8080/"
        },
        "id": "s67V55OS8TDN",
        "outputId": "13ce6eef-05fa-48fa-e015-32c46e061f1d"
      },
      "source": [
        "cd /content/huggingfacelearningcolab"
      ],
      "execution_count": 6,
      "outputs": [
        {
          "output_type": "stream",
          "text": [
            "/content/huggingfacelearningcolab\n"
          ],
          "name": "stdout"
        }
      ]
    },
    {
      "cell_type": "code",
      "metadata": {
        "colab": {
          "base_uri": "https://localhost:8080/"
        },
        "id": "P-VdTWBL8ZiA",
        "outputId": "15a274b6-7d4d-4ec0-b8f0-b2abe23de02f"
      },
      "source": [
        "!ls -a"
      ],
      "execution_count": 7,
      "outputs": [
        {
          "output_type": "stream",
          "text": [
            ".  ..\n"
          ],
          "name": "stdout"
        }
      ]
    },
    {
      "cell_type": "code",
      "metadata": {
        "colab": {
          "base_uri": "https://localhost:8080/"
        },
        "id": "7ekN2ITiBV3x",
        "outputId": "a88bb9e5-4757-4ecc-b9e8-387fd119ea9b"
      },
      "source": [
        "#!os.chdir('/root')\n",
        "os.listdir('/root')\n",
        "#os.getenv('/root/.cache')\n",
        "#print(os.getenv('/root/.cache'))"
      ],
      "execution_count": 8,
      "outputs": [
        {
          "output_type": "execute_result",
          "data": {
            "text/plain": [
              "['.bashrc',\n",
              " '.profile',\n",
              " '.local',\n",
              " '.ipython',\n",
              " '.keras',\n",
              " '.cache',\n",
              " '.tmux.conf',\n",
              " '.jupyter',\n",
              " '.config',\n",
              " '.npm',\n",
              " '.gsutil']"
            ]
          },
          "metadata": {},
          "execution_count": 8
        }
      ]
    },
    {
      "cell_type": "code",
      "metadata": {
        "colab": {
          "base_uri": "https://localhost:8080/"
        },
        "id": "xeeFZvAoUyQA",
        "outputId": "21472f95-bd7e-4c9c-b723-a3eff5deb1c0"
      },
      "source": [
        "!pip3 install virtualenv\n",
        "!virtualenv theanoEnv\n",
        "!echo '#!/bin/bash \\n . ./theanoEnv/bin/activate theanoEnv \\n which python3'  > source_theanoEnv.sh && chmod +x source_theanoEnv.sh && ./source_theanoEnv.sh && which python3\n",
        "!which python3"
      ],
      "execution_count": 9,
      "outputs": [
        {
          "output_type": "stream",
          "text": [
            "Collecting virtualenv\n",
            "  Downloading virtualenv-20.7.2-py2.py3-none-any.whl (5.3 MB)\n",
            "\u001b[K     |████████████████████████████████| 5.3 MB 4.1 MB/s \n",
            "\u001b[?25hCollecting backports.entry-points-selectable>=1.0.4\n",
            "  Downloading backports.entry_points_selectable-1.1.0-py2.py3-none-any.whl (6.2 kB)\n",
            "Requirement already satisfied: six<2,>=1.9.0 in /usr/local/lib/python3.7/dist-packages (from virtualenv) (1.15.0)\n",
            "Requirement already satisfied: importlib-metadata>=0.12 in /usr/local/lib/python3.7/dist-packages (from virtualenv) (4.6.4)\n",
            "Collecting distlib<1,>=0.3.1\n",
            "  Downloading distlib-0.3.2-py2.py3-none-any.whl (338 kB)\n",
            "\u001b[K     |████████████████████████████████| 338 kB 58.0 MB/s \n",
            "\u001b[?25hCollecting platformdirs<3,>=2\n",
            "  Downloading platformdirs-2.2.0-py3-none-any.whl (13 kB)\n",
            "Requirement already satisfied: filelock<4,>=3.0.0 in /usr/local/lib/python3.7/dist-packages (from virtualenv) (3.0.12)\n",
            "Requirement already satisfied: typing-extensions>=3.6.4 in /usr/local/lib/python3.7/dist-packages (from importlib-metadata>=0.12->virtualenv) (3.7.4.3)\n",
            "Requirement already satisfied: zipp>=0.5 in /usr/local/lib/python3.7/dist-packages (from importlib-metadata>=0.12->virtualenv) (3.5.0)\n",
            "Installing collected packages: platformdirs, distlib, backports.entry-points-selectable, virtualenv\n",
            "Successfully installed backports.entry-points-selectable-1.1.0 distlib-0.3.2 platformdirs-2.2.0 virtualenv-20.7.2\n",
            "\u001b[33mWARNING: Running pip as the 'root' user can result in broken permissions and conflicting behaviour with the system package manager. It is recommended to use a virtual environment instead: https://pip.pypa.io/warnings/venv\u001b[0m\n",
            "created virtual environment CPython3.7.11.final.0-64 in 982ms\n",
            "  creator CPython3Posix(dest=/content/huggingfacelearningcolab/theanoEnv, clear=False, no_vcs_ignore=False, global=False)\n",
            "  seeder FromAppData(download=False, pip=bundle, setuptools=bundle, wheel=bundle, via=copy, app_data_dir=/root/.local/share/virtualenv)\n",
            "    added seed packages: pip==21.2.3, setuptools==57.4.0, wheel==0.37.0\n",
            "  activators BashActivator,CShellActivator,FishActivator,PowerShellActivator,PythonActivator\n",
            "/bin/bash: \\n . ./theanoEnv/bin/activate theanoEnv \\n which python3: No such file or directory\n",
            "/usr/bin/python3\n"
          ],
          "name": "stdout"
        }
      ]
    },
    {
      "cell_type": "code",
      "metadata": {
        "colab": {
          "base_uri": "https://localhost:8080/"
        },
        "id": "gPA_0knTtgBO",
        "outputId": "c65020f3-63b8-41ba-8543-1c284ea15006"
      },
      "source": [
        "# follow these steps https://help.pythonanywhere.com/pages/IPythonNotebookVirtualenvs/\n",
        "#Installed kernelspec theanoEnv in /root/.local/share/jupyter/kernels/theanoenv\n",
        "\n",
        "!/content/theanoEnv/bin/pip3 install ipykernel\n",
        "!/content/theanoEnv/bin/python3 -m ipykernel install --user --name=theanoEnv\n",
        "!theanoEnv\n",
        "!which python"
      ],
      "execution_count": 10,
      "outputs": [
        {
          "output_type": "stream",
          "text": [
            "/bin/bash: /content/theanoEnv/bin/pip3: No such file or directory\n",
            "/bin/bash: /content/theanoEnv/bin/python3: No such file or directory\n",
            "/bin/bash: theanoEnv: command not found\n",
            "/usr/local/bin/python\n"
          ],
          "name": "stdout"
        }
      ]
    },
    {
      "cell_type": "code",
      "metadata": {
        "colab": {
          "base_uri": "https://localhost:8080/"
        },
        "id": "P60hixVRfMPj",
        "outputId": "32e85a11-2609-44b1-870f-fcd88a218193"
      },
      "source": [
        "!pip3 install -U pip virtualenv\n",
        "#!virtualenv --system-site-packages -p python ./venv\n",
        "    #or \n",
        "!virtualenv --system-site-packages -p python3 ./venv\n",
        "#!.\\venv\\bin\\activate \n",
        "#!./venv/bin/activate \n",
        "!source venv/bin/activate\n",
        "!which python\n",
        "\n",
        "#!source .\\venv/bin/activate\n",
        "#!source .\\venv/bin/activate"
      ],
      "execution_count": 11,
      "outputs": [
        {
          "output_type": "stream",
          "text": [
            "Requirement already satisfied: pip in /usr/local/lib/python3.7/dist-packages (21.2.4)\n",
            "Requirement already satisfied: virtualenv in /usr/local/lib/python3.7/dist-packages (20.7.2)\n",
            "Requirement already satisfied: platformdirs<3,>=2 in /usr/local/lib/python3.7/dist-packages (from virtualenv) (2.2.0)\n",
            "Requirement already satisfied: importlib-metadata>=0.12 in /usr/local/lib/python3.7/dist-packages (from virtualenv) (4.6.4)\n",
            "Requirement already satisfied: backports.entry-points-selectable>=1.0.4 in /usr/local/lib/python3.7/dist-packages (from virtualenv) (1.1.0)\n",
            "Requirement already satisfied: filelock<4,>=3.0.0 in /usr/local/lib/python3.7/dist-packages (from virtualenv) (3.0.12)\n",
            "Requirement already satisfied: six<2,>=1.9.0 in /usr/local/lib/python3.7/dist-packages (from virtualenv) (1.15.0)\n",
            "Requirement already satisfied: distlib<1,>=0.3.1 in /usr/local/lib/python3.7/dist-packages (from virtualenv) (0.3.2)\n",
            "Requirement already satisfied: typing-extensions>=3.6.4 in /usr/local/lib/python3.7/dist-packages (from importlib-metadata>=0.12->virtualenv) (3.7.4.3)\n",
            "Requirement already satisfied: zipp>=0.5 in /usr/local/lib/python3.7/dist-packages (from importlib-metadata>=0.12->virtualenv) (3.5.0)\n",
            "\u001b[33mWARNING: Running pip as the 'root' user can result in broken permissions and conflicting behaviour with the system package manager. It is recommended to use a virtual environment instead: https://pip.pypa.io/warnings/venv\u001b[0m\n",
            "created virtual environment CPython3.7.11.final.0-64 in 225ms\n",
            "  creator CPython3Posix(dest=/content/huggingfacelearningcolab/venv, clear=False, no_vcs_ignore=False, global=True)\n",
            "  seeder FromAppData(download=False, pip=bundle, setuptools=bundle, wheel=bundle, via=copy, app_data_dir=/root/.local/share/virtualenv)\n",
            "    added seed packages: pip==21.2.3, setuptools==57.4.0, wheel==0.37.0\n",
            "  activators BashActivator,CShellActivator,FishActivator,PowerShellActivator,PythonActivator\n",
            "/usr/local/bin/python\n"
          ],
          "name": "stdout"
        }
      ]
    },
    {
      "cell_type": "code",
      "metadata": {
        "colab": {
          "base_uri": "https://localhost:8080/"
        },
        "id": "uTjPC-U5m4gD",
        "outputId": "1a3b6da8-cd08-4fe6-b162-8fa1c14b8820"
      },
      "source": [
        "!deactivate"
      ],
      "execution_count": 21,
      "outputs": [
        {
          "output_type": "stream",
          "text": [
            "/bin/bash: deactivate: command not found\n"
          ],
          "name": "stdout"
        }
      ]
    },
    {
      "cell_type": "code",
      "metadata": {
        "colab": {
          "base_uri": "https://localhost:8080/"
        },
        "id": "lkT6-B6-9Vnd",
        "outputId": "05f6f7ac-7f8b-4a69-e644-f0ec20d55f6e"
      },
      "source": [
        "!python --version\n",
        "\n",
        "!which python\n",
        "\n",
        "#/usr/local/bin/python   : where python exists in the original root\n",
        "#/usr/local/lib/python3.7/dist-packages\n",
        "#c:\\Python35\\python -m venv c:\\path\\to\\myenv\n",
        "#he IPython shell runs your python code just like the normal python shell does, only with more features.\n",
        "#!ipython3 -m venv .tutorial-huggingface\n",
        "#! /usr/local/bin/python  -m venv .tutorial-huggingface\n",
        "\n",
        "\n",
        "!apt-get install python3.7-dev python3.7-venv\n",
        "\n",
        "#Use 'apt autoremove' to remove it.\n",
        "\n",
        "\n",
        "!python -m venv .tutorial-huggingface\n",
        "\n",
        "\n",
        "os.listdir('/usr/local/bin/')\n"
      ],
      "execution_count": 12,
      "outputs": [
        {
          "output_type": "stream",
          "text": [
            "Python 3.7.11\n",
            "/usr/local/bin/python\n",
            "Reading package lists... Done\n",
            "Building dependency tree       \n",
            "Reading state information... Done\n",
            "python3.7-dev is already the newest version (3.7.11-1+bionic1).\n",
            "The following package was automatically installed and is no longer required:\n",
            "  libnvidia-common-460\n",
            "Use 'apt autoremove' to remove it.\n",
            "The following NEW packages will be installed:\n",
            "  python3.7-venv\n",
            "0 upgraded, 1 newly installed, 0 to remove and 40 not upgraded.\n",
            "Need to get 1,897 kB of archives.\n",
            "After this operation, 2,102 kB of additional disk space will be used.\n",
            "Get:1 http://ppa.launchpad.net/deadsnakes/ppa/ubuntu bionic/main amd64 python3.7-venv amd64 3.7.11-1+bionic1 [1,897 kB]\n",
            "Fetched 1,897 kB in 2s (896 kB/s)\n",
            "Selecting previously unselected package python3.7-venv.\n",
            "(Reading database ... 148532 files and directories currently installed.)\n",
            "Preparing to unpack .../python3.7-venv_3.7.11-1+bionic1_amd64.deb ...\n",
            "Unpacking python3.7-venv (3.7.11-1+bionic1) ...\n",
            "Setting up python3.7-venv (3.7.11-1+bionic1) ...\n",
            "Processing triggers for man-db (2.8.3-2ubuntu0.1) ...\n"
          ],
          "name": "stdout"
        },
        {
          "output_type": "execute_result",
          "data": {
            "text/plain": [
              "['pip3.7',\n",
              " 'pip3',\n",
              " 'virtualenv',\n",
              " 'pip',\n",
              " 'colab-fileshim.py',\n",
              " 'dap_multiplexer',\n",
              " 'test-importability.py',\n",
              " 'portserver.py',\n",
              " 'tensorboard',\n",
              " 'mturk',\n",
              " 'fitscheck',\n",
              " 'pildriver.py',\n",
              " 'pytest',\n",
              " 't2t-datagen',\n",
              " 'hyperopt-mongo-worker',\n",
              " 'chardetect',\n",
              " 't2t-exporter',\n",
              " 'flask',\n",
              " 'python-argcomplete-check-easy-install-script',\n",
              " 'pilfont.py',\n",
              " 'f2py2',\n",
              " 'instance_events',\n",
              " 'isympy',\n",
              " 'lss3',\n",
              " 'rst2pseudoxml.pyc',\n",
              " 'f2py',\n",
              " 'pilfont.pyc',\n",
              " 'futurize',\n",
              " 'nosetests',\n",
              " 'theano-cache',\n",
              " 'google',\n",
              " 't2t-trainer',\n",
              " 'cython',\n",
              " 'dask-remote',\n",
              " 'plac_runner.pyc',\n",
              " 'samp_hub',\n",
              " 'rstpep2html.py',\n",
              " 'pildriver.pyc',\n",
              " 'tqdm',\n",
              " 'jupyter-troubleshoot',\n",
              " 'ipython2',\n",
              " 'rst2html4.py',\n",
              " 'rst2odt.pyc',\n",
              " 'jupyter-nbconvert',\n",
              " 'markdown_py',\n",
              " 'f2py3.7',\n",
              " 'fitsdiff',\n",
              " 'coverage-3.7',\n",
              " 'jupyter-console',\n",
              " 'pyrsa-keygen',\n",
              " 'tabulate',\n",
              " 'rst2odt_prepstyles.pyc',\n",
              " 'iptest3',\n",
              " 'holoviews',\n",
              " 'jupyter-notebook',\n",
              " 'wcslint',\n",
              " 'pilfile.pyc',\n",
              " 'ptrepack',\n",
              " 'rst2html5.pyc',\n",
              " 'pyrsa-encrypt',\n",
              " 'google-oauthlib-tool',\n",
              " 'activate-global-python-argcomplete',\n",
              " 't2t-decoder',\n",
              " 'rst2xetex.py',\n",
              " 'fits2bitmap',\n",
              " 'rstpep2html.pyc',\n",
              " 'toco_from_protos',\n",
              " 'jupyter',\n",
              " 'jupyter-bundlerextension',\n",
              " 'rst2man.py',\n",
              " 'jp.pyc',\n",
              " 'rst2s5.pyc',\n",
              " 'tflite_convert',\n",
              " 'showtable',\n",
              " 'tiff2fsspec',\n",
              " 'f2py2.7',\n",
              " 'convert-onnx-to-caffe2',\n",
              " 'rst2html.py',\n",
              " 'nib-diff',\n",
              " 'bokeh',\n",
              " 'cmake',\n",
              " 'py.test',\n",
              " 'fio',\n",
              " 'django-admin.py',\n",
              " 'launch_instance',\n",
              " 'pttree',\n",
              " 'bundle_image',\n",
              " 'player.pyc',\n",
              " 'sphinx-autogen',\n",
              " 'nc4tonc3',\n",
              " 'runxlrd.py',\n",
              " 'rst2html5.py',\n",
              " 'theano-nose',\n",
              " 'gifmaker.pyc',\n",
              " 'pip-sync',\n",
              " 'ipython',\n",
              " 'ncinfo',\n",
              " 'gdown',\n",
              " 't2t-avg-all',\n",
              " 'mido-ports',\n",
              " 'enhancer.pyc',\n",
              " 'jsonschema',\n",
              " 'gunicorn_paster',\n",
              " 'dask-ssh',\n",
              " 'asadmin',\n",
              " 'tifffile',\n",
              " 'pysemver',\n",
              " 'route53',\n",
              " 'rst2man.pyc',\n",
              " 'pilconvert.py',\n",
              " 'get_objgraph',\n",
              " 'cpack',\n",
              " 'saved_model_cli',\n",
              " 'natsort',\n",
              " 'jupyter-run',\n",
              " 'viewer.pyc',\n",
              " 'pyrsa-priv2pub',\n",
              " 'tiffcomment',\n",
              " 'ptdump',\n",
              " 'fitsheader',\n",
              " 'plasma_store',\n",
              " 'pt2to3',\n",
              " 'fetch_file',\n",
              " 'jupyter-migrate',\n",
              " 'wordcloud_cli',\n",
              " 'make_image_classifier',\n",
              " 'jupyter-trust',\n",
              " 'sample',\n",
              " 't2t-make-tf-configs',\n",
              " 'player.py',\n",
              " 'enhancer.py',\n",
              " 'ctest',\n",
              " 'cq',\n",
              " 'range-detector',\n",
              " 'lunar-find',\n",
              " 'sdbadmin',\n",
              " 'pycc',\n",
              " 'nib-trk2tck',\n",
              " 'tfds',\n",
              " 'imageio_remove_bin',\n",
              " 'jp.py',\n",
              " 'jupyter-nbextension',\n",
              " 'iptest',\n",
              " 'pyrsa-verify',\n",
              " 't2t-bleu',\n",
              " 'plac_runner.py',\n",
              " '__pycache__',\n",
              " 'dask-mpi',\n",
              " 'list_instances',\n",
              " 'undill',\n",
              " 'convert-caffe2-to-onnx',\n",
              " 'make_nearest_neighbour_index',\n",
              " 'pyct',\n",
              " 'sphinx-build',\n",
              " 'django-admin',\n",
              " 'rst2html.pyc',\n",
              " 'pybabel',\n",
              " 'pbr',\n",
              " 'rst2pseudoxml.py',\n",
              " 'iptest2',\n",
              " 'panel',\n",
              " 'import_pb_to_tensorboard',\n",
              " 'painter.pyc',\n",
              " 'pip-compile',\n",
              " 'thresholder.py',\n",
              " 'sphinx-quickstart',\n",
              " 'thresholder.pyc',\n",
              " 't2t-insights-server',\n",
              " 'nib-nifti-dx',\n",
              " 'estimator_ckpt_converter',\n",
              " 'normalizer',\n",
              " 'slugify',\n",
              " 'rst2xetex.pyc',\n",
              " 'mido-connect',\n",
              " 'dask-submit',\n",
              " 'python-argcomplete-tcsh',\n",
              " 'viewer.py',\n",
              " 't2t-query-server',\n",
              " 'cfadmin',\n",
              " 'kill_instance',\n",
              " 'pyrsa-decrypt',\n",
              " 'numba',\n",
              " 'coveralls',\n",
              " 'earthengine',\n",
              " 'pasteurize',\n",
              " 'rst2html4.pyc',\n",
              " 'rst2latex.py',\n",
              " 'jupyter-kernelspec',\n",
              " 'coverage3',\n",
              " 'f2py3',\n",
              " 'rst2xml.py',\n",
              " 'fitsinfo',\n",
              " 'gifmaker.py',\n",
              " 'gunicorn',\n",
              " 'glacier',\n",
              " 'cygdb',\n",
              " 'pilconvert.pyc',\n",
              " 'ipython3',\n",
              " 'dask-scheduler',\n",
              " 'pyami_sendmail',\n",
              " 'django-admin.pyc',\n",
              " 'nib-tck2trk',\n",
              " 'sphinx-apidoc',\n",
              " 'dynamodb_dump',\n",
              " 's3put',\n",
              " 'rst2odt_prepstyles.py',\n",
              " 'toco',\n",
              " 'cythonize',\n",
              " 'doesitcache',\n",
              " 'volint',\n",
              " 'pilprint.pyc',\n",
              " 'pyrsa-sign',\n",
              " 'mido-serve',\n",
              " 'kaggle',\n",
              " 'jupyter-serverextension',\n",
              " 'tf_upgrade_v2',\n",
              " 'imageio_download_bin',\n",
              " 'register-python-argcomplete',\n",
              " 'explode.pyc',\n",
              " 'elbadmin',\n",
              " 'rst2latex.pyc',\n",
              " 'install_cmdstan',\n",
              " 'pygmentize',\n",
              " 'taskadmin',\n",
              " 'explode.py',\n",
              " 'skivi',\n",
              " 'spacy',\n",
              " 'jupyter-qtconsole',\n",
              " 'rst2odt.py',\n",
              " 'cwutil',\n",
              " 'nib-ls',\n",
              " 'install_cxx_toolchain',\n",
              " 'nib-dicomfs',\n",
              " 'pilfile.py',\n",
              " 'parrec2nii',\n",
              " 'colorcet',\n",
              " 'nosetests-2.7',\n",
              " 'pilprint.py',\n",
              " 'coverage',\n",
              " 'sqlformat',\n",
              " 'mido-play',\n",
              " 'community',\n",
              " 'rst2xml.pyc',\n",
              " 'nc3tonc4',\n",
              " 'runxlrd.pyc',\n",
              " 'painter.py',\n",
              " 'lsm2bin',\n",
              " 't2t-translate-all',\n",
              " 'jupyter-kernel',\n",
              " 'rst2s5.py',\n",
              " 'dask-worker',\n",
              " 'dynamodb_load',\n",
              " 'python',\n",
              " 'R',\n",
              " 'wheel',\n",
              " 'pip2.7',\n",
              " 'pip2',\n",
              " 'easy_install-2.7',\n",
              " 'easy_install',\n",
              " 'nsight-sys',\n",
              " 'nsys',\n",
              " 'nsys-ui']"
            ]
          },
          "metadata": {},
          "execution_count": 12
        }
      ]
    },
    {
      "cell_type": "code",
      "metadata": {
        "colab": {
          "base_uri": "https://localhost:8080/"
        },
        "id": "0Uv0NDgAHyhe",
        "outputId": "d5c78086-905f-4b3a-dcc1-91c9e864c48e"
      },
      "source": [
        "!cd /content/huggingfacelearningcolab\n",
        "os.listdir('.tutorial-huggingface')\n",
        "os.listdir('.tutorial-huggingface/bin')"
      ],
      "execution_count": 13,
      "outputs": [
        {
          "output_type": "execute_result",
          "data": {
            "text/plain": [
              "['pip3.7',\n",
              " 'activate.fish',\n",
              " 'easy_install-3.7',\n",
              " 'activate',\n",
              " 'pip3',\n",
              " 'python',\n",
              " 'python3',\n",
              " 'pip',\n",
              " 'easy_install',\n",
              " 'activate.csh']"
            ]
          },
          "metadata": {},
          "execution_count": 13
        }
      ]
    },
    {
      "cell_type": "code",
      "metadata": {
        "colab": {
          "base_uri": "https://localhost:8080/"
        },
        "id": "VMAdlr4FIXBp",
        "outputId": "15be013b-df05-4d05-afb1-fe25d23e58e6"
      },
      "source": [
        "import os\n",
        "os.getcwd()\n",
        "!source .tutorial-huggingface/bin/activate\n",
        "!which python\n",
        "# better solution uo to now\n",
        "#Since each shell is temporary, we switch the environment activation command and the command to be executed in environment.\n",
        "#in each shell we add:\n",
        "   # !source .tutorial-huggingface/bin/activate\n",
        "\n",
        " #example for virtualenv\n",
        " #!pip3 install virtualenv\n",
        "#  !virtualenv theanoEnv\n",
        " #!source /content/theanoEnv/bin/activate; pip3 install robotframework; pip3 list; python3 -m robot --help  "
      ],
      "execution_count": 14,
      "outputs": [
        {
          "output_type": "stream",
          "text": [
            "/usr/local/bin/python\n"
          ],
          "name": "stdout"
        }
      ]
    },
    {
      "cell_type": "code",
      "metadata": {
        "colab": {
          "base_uri": "https://localhost:8080/"
        },
        "id": "vLcPiMLOIsdH",
        "outputId": "da31b918-a68c-4465-dccf-235dd4c979c5"
      },
      "source": [
        "!which python"
      ],
      "execution_count": 162,
      "outputs": [
        {
          "output_type": "stream",
          "text": [
            "/usr/local/bin/python\n"
          ],
          "name": "stdout"
        }
      ]
    },
    {
      "cell_type": "code",
      "metadata": {
        "colab": {
          "base_uri": "https://localhost:8080/"
        },
        "id": "bWV2vnR0qYEq",
        "outputId": "0f4f3cbd-5f4b-4239-b5b8-98d893af1750"
      },
      "source": [
        "#the built-in Python venv module to create a virtual environment.\n",
        "#the -m flag means Python is running the built-in venv module as a script.\n",
        "#this module you need Python 3.3 or greater installed in your system.\n",
        "!python --version\n",
        "!python3 -m venv .tutorial-huggingface\n",
        "# -p /usr/bin/python3 -m venv .tutorial-huggingface #  used in virtualenv doubt\n",
        "!source .tutorial-huggingface/bin/activate\n",
        "!which python\n",
        "# If everything worked well, you should get something similar to the following output: ~/.tutorial-huggingface/bin/bin/python\n",
        "#deactivate\n",
        "#!which python\n",
        "#If you deactivate and which again, you should get a different output: /usr/bin/python\n",
        "#pip install -r requirements.txt\n",
        "#to To generate the dependencies file of your project, you can run the command below:\n",
        "#If I run the pip freeze command, which prints a list of all my installed packages, I’ll get this:\n",
        "#pip freeze > requirements.txt\n",
        "#pip install package==version\n",
        "#pip uninstall some-package-name\n",
        "# see other tools to install environment as Virtualenv, Virtualenvwrapper:  https://www.sitepoint.com/virtual-environments-python-made-easy/\n",
        "# for virtualenv:\n",
        "      #pip install virtualenv\n",
        "      #virtualenv virt2\n",
        "      #source virt2/bin/activate\n",
        "      #virtualenv -p /usr/bin/python3 virt2\n",
        "# for virtualen from https://stackoverflow.com/questions/8921188/issue-with-virtualenv-cannot-activate\n",
        "    #pip3 install -U pip virtualenv\n",
        "    #virtualenv --system-site-packages -p python ./venv\n",
        "    #or \n",
        "    #virtualenv --system-site-packages -p python3 ./venv\n",
        "    #.\\venv\\bin\\activate    \n",
        "#The following command (-p )can be used to create the virtual environment virt2 with Python3 in it, if you have Python3 installed on your machine:\n",
        "#virtualenv -p /usr/bin/python3 virt2\n",
        "#to delete a virtual environment, you use the rm -r command as you do with any other directory you want to delete:\n",
        "#rm -r virt2"
      ],
      "execution_count": 22,
      "outputs": [
        {
          "output_type": "stream",
          "text": [
            "Python 3.7.11\n",
            "/usr/local/bin/python\n"
          ],
          "name": "stdout"
        }
      ]
    },
    {
      "cell_type": "code",
      "metadata": {
        "colab": {
          "base_uri": "https://localhost:8080/"
        },
        "id": "x_nSIVKunYhz",
        "outputId": "af303003-8967-408f-8bab-d22336da8d69"
      },
      "source": [
        "!deactivate"
      ],
      "execution_count": 24,
      "outputs": [
        {
          "output_type": "stream",
          "text": [
            "/bin/bash: deactivate: command not found\n"
          ],
          "name": "stdout"
        }
      ]
    },
    {
      "cell_type": "code",
      "metadata": {
        "id": "_VC3cc_8vxQP"
      },
      "source": [
        ""
      ],
      "execution_count": null,
      "outputs": []
    },
    {
      "cell_type": "code",
      "metadata": {
        "colab": {
          "base_uri": "https://localhost:8080/"
        },
        "id": "AnFDx5RQuzkk",
        "outputId": "3451246d-2bc3-4401-ed3e-dd032747d5eb"
      },
      "source": [
        "!python --version"
      ],
      "execution_count": 82,
      "outputs": [
        {
          "output_type": "stream",
          "text": [
            "Python 3.7.11\n"
          ],
          "name": "stdout"
        }
      ]
    },
    {
      "cell_type": "code",
      "metadata": {
        "colab": {
          "base_uri": "https://localhost:8080/"
        },
        "id": "ewXNP584qRrI",
        "outputId": "c2f5638d-98f5-47e1-cabb-405fa46adff4"
      },
      "source": [
        "!source /content/theanoEnv/bin/activate; pip install transformers; which python"
      ],
      "execution_count": 15,
      "outputs": [
        {
          "output_type": "stream",
          "text": [
            "/bin/bash: /content/theanoEnv/bin/activate: No such file or directory\n",
            "Collecting transformers\n",
            "  Downloading transformers-4.9.2-py3-none-any.whl (2.6 MB)\n",
            "\u001b[K     |████████████████████████████████| 2.6 MB 4.1 MB/s \n",
            "\u001b[?25hRequirement already satisfied: numpy>=1.17 in /usr/local/lib/python3.7/dist-packages (from transformers) (1.19.5)\n",
            "Collecting sacremoses\n",
            "  Downloading sacremoses-0.0.45-py3-none-any.whl (895 kB)\n",
            "\u001b[K     |████████████████████████████████| 895 kB 48.3 MB/s \n",
            "\u001b[?25hCollecting tokenizers<0.11,>=0.10.1\n",
            "  Downloading tokenizers-0.10.3-cp37-cp37m-manylinux_2_5_x86_64.manylinux1_x86_64.manylinux_2_12_x86_64.manylinux2010_x86_64.whl (3.3 MB)\n",
            "\u001b[K     |████████████████████████████████| 3.3 MB 37.4 MB/s \n",
            "\u001b[?25hRequirement already satisfied: filelock in /usr/local/lib/python3.7/dist-packages (from transformers) (3.0.12)\n",
            "Collecting pyyaml>=5.1\n",
            "  Downloading PyYAML-5.4.1-cp37-cp37m-manylinux1_x86_64.whl (636 kB)\n",
            "\u001b[K     |████████████████████████████████| 636 kB 33.6 MB/s \n",
            "\u001b[?25hCollecting huggingface-hub==0.0.12\n",
            "  Downloading huggingface_hub-0.0.12-py3-none-any.whl (37 kB)\n",
            "Requirement already satisfied: requests in /usr/local/lib/python3.7/dist-packages (from transformers) (2.23.0)\n",
            "Requirement already satisfied: packaging in /usr/local/lib/python3.7/dist-packages (from transformers) (21.0)\n",
            "Requirement already satisfied: tqdm>=4.27 in /usr/local/lib/python3.7/dist-packages (from transformers) (4.62.0)\n",
            "Requirement already satisfied: importlib-metadata in /usr/local/lib/python3.7/dist-packages (from transformers) (4.6.4)\n",
            "Requirement already satisfied: regex!=2019.12.17 in /usr/local/lib/python3.7/dist-packages (from transformers) (2019.12.20)\n",
            "Requirement already satisfied: typing-extensions in /usr/local/lib/python3.7/dist-packages (from huggingface-hub==0.0.12->transformers) (3.7.4.3)\n",
            "Requirement already satisfied: pyparsing>=2.0.2 in /usr/local/lib/python3.7/dist-packages (from packaging->transformers) (2.4.7)\n",
            "Requirement already satisfied: zipp>=0.5 in /usr/local/lib/python3.7/dist-packages (from importlib-metadata->transformers) (3.5.0)\n",
            "Requirement already satisfied: certifi>=2017.4.17 in /usr/local/lib/python3.7/dist-packages (from requests->transformers) (2021.5.30)\n",
            "Requirement already satisfied: chardet<4,>=3.0.2 in /usr/local/lib/python3.7/dist-packages (from requests->transformers) (3.0.4)\n",
            "Requirement already satisfied: idna<3,>=2.5 in /usr/local/lib/python3.7/dist-packages (from requests->transformers) (2.10)\n",
            "Requirement already satisfied: urllib3!=1.25.0,!=1.25.1,<1.26,>=1.21.1 in /usr/local/lib/python3.7/dist-packages (from requests->transformers) (1.24.3)\n",
            "Requirement already satisfied: click in /usr/local/lib/python3.7/dist-packages (from sacremoses->transformers) (7.1.2)\n",
            "Requirement already satisfied: joblib in /usr/local/lib/python3.7/dist-packages (from sacremoses->transformers) (1.0.1)\n",
            "Requirement already satisfied: six in /usr/local/lib/python3.7/dist-packages (from sacremoses->transformers) (1.15.0)\n",
            "Installing collected packages: tokenizers, sacremoses, pyyaml, huggingface-hub, transformers\n",
            "  Attempting uninstall: pyyaml\n",
            "    Found existing installation: PyYAML 3.13\n",
            "    Uninstalling PyYAML-3.13:\n",
            "      Successfully uninstalled PyYAML-3.13\n",
            "Successfully installed huggingface-hub-0.0.12 pyyaml-5.4.1 sacremoses-0.0.45 tokenizers-0.10.3 transformers-4.9.2\n",
            "\u001b[33mWARNING: Running pip as the 'root' user can result in broken permissions and conflicting behaviour with the system package manager. It is recommended to use a virtual environment instead: https://pip.pypa.io/warnings/venv\u001b[0m\n",
            "/usr/local/bin/python\n"
          ],
          "name": "stdout"
        }
      ]
    },
    {
      "cell_type": "code",
      "metadata": {
        "id": "r4J4UD0ORY7A"
      },
      "source": [
        "#!wget -c https://repo.continuum.io/archive/Anaconda3-5.1.0-Linux-x86_64.sh\n",
        "#!chmod +x Anaconda3-5.1.0-Linux-x86_64.sh\n",
        "#!bash ./Anaconda3-5.1.0-Linux-x86_64.sh -b -f -p /usr/local\n",
        "#!conda install -q -y --prefix /usr/local -c pytorch -c tensorcomp tensor_comprehensions\n",
        "\n",
        "#import sys\n",
        "#sys.path.append('/usr/local/lib/python3.6/site-packages/')\n",
        "#import tensor_comprehensions as tc\n",
        "#import torch"
      ],
      "execution_count": null,
      "outputs": []
    },
    {
      "cell_type": "code",
      "metadata": {
        "colab": {
          "base_uri": "https://localhost:8080/",
          "height": 336
        },
        "id": "wgoz1TWnNxtP",
        "outputId": "56358c45-26f9-4572-c521-be119de876ba"
      },
      "source": [
        "##@title\n",
        "#from IPython.display import HTML\n",
        "\n",
        "#HTML('<iframe width=\"560\" height=\"315\" src=\"https://youtu.be/C3KMhawRFic?list=PL-2-nnWlNR_C6GZ896n70FbeccGaVO227&t=1\" frameborder=\"0\" allowfullscreen></iframe>')"
      ],
      "execution_count": 67,
      "outputs": [
        {
          "output_type": "execute_result",
          "data": {
            "text/html": [
              "<iframe width=\"560\" height=\"315\" src=\"https://youtu.be/C3KMhawRFic?list=PL-2-nnWlNR_C6GZ896n70FbeccGaVO227&t=1\" frameborder=\"0\" allowfullscreen></iframe>"
            ],
            "text/plain": [
              "<IPython.core.display.HTML object>"
            ]
          },
          "metadata": {},
          "execution_count": 67
        }
      ]
    },
    {
      "cell_type": "code",
      "metadata": {
        "colab": {
          "base_uri": "https://localhost:8080/"
        },
        "id": "F2urEhCQvrx6",
        "outputId": "4ca8e515-0d37-4165-95d9-d25e2dac86d5"
      },
      "source": [
        "#ls -a\n",
        "#!cd   /content/.envhuggingfacelearningcolab\n",
        "#/root/bin/content/\n",
        "#/root/content/\n",
        "# cd /root/huggingfacelearningcolab \n",
        "#!ls -a\n",
        "\n"
      ],
      "execution_count": 33,
      "outputs": [
        {
          "output_type": "stream",
          "text": [
            ".   .config  .envhuggingfacelearningcolab  sample_data\n",
            "..  .env     finetuned-bert-mrpc\n"
          ],
          "name": "stdout"
        }
      ]
    },
    {
      "cell_type": "code",
      "metadata": {
        "colab": {
          "base_uri": "https://localhost:8080/"
        },
        "id": "UkMmH9a182q-",
        "outputId": "c8cf0614-f60f-44e3-d264-734a89b7f058"
      },
      "source": [
        "#import os\n",
        "#value = os.getenv('/root')\n",
        "#print(value)"
      ],
      "execution_count": 42,
      "outputs": [
        {
          "output_type": "stream",
          "text": [
            "None\n"
          ],
          "name": "stdout"
        }
      ]
    },
    {
      "cell_type": "markdown",
      "metadata": {
        "id": "u1rA0X4ivTHL"
      },
      "source": [
        "WARNING: Running pip as the 'root' user can result in broken permissions and conflicting behaviour with the system package manager. It is recommended to use a virtual environment instead: https://pip.pypa.io/warnings/venv"
      ]
    },
    {
      "cell_type": "code",
      "metadata": {
        "colab": {
          "base_uri": "https://localhost:8080/"
        },
        "id": "YMIO9lonuo17",
        "outputId": "93ba7470-7a47-463f-f8b8-b21e4eb2562c"
      },
      "source": [
        "#!mkdir ~/huggingfacelearningcolab\n",
        "#!cd ~/huggingfacelearningcolab\n",
        "#!python3 -m venv .envhuggingfacelearningcolab  --default-pip   /root/usr/bin/\n",
        "\n",
        "#!python3 -m venv .envhuggingfacelearningcolab\n",
        " #!ls -a\n",
        "#!source .envhuggingfacelearningcolab/bin/activate\n",
        "# which python"
      ],
      "execution_count": 53,
      "outputs": [
        {
          "output_type": "stream",
          "text": [
            "mkdir: cannot create directory ‘/root/huggingfacelearningcolab’: File exists\n",
            "usage: venv [-h] [--system-site-packages] [--symlinks | --copies] [--clear]\n",
            "            [--upgrade] [--without-pip] [--prompt PROMPT]\n",
            "            ENV_DIR [ENV_DIR ...]\n",
            "venv: error: unrecognized arguments: --default-pip /root/usr/bin/\n"
          ],
          "name": "stdout"
        }
      ]
    },
    {
      "cell_type": "code",
      "metadata": {
        "colab": {
          "base_uri": "https://localhost:8080/"
        },
        "id": "aNny5vVdtqSE",
        "outputId": "96045735-9e7d-4491-99ac-390164676be3"
      },
      "source": [
        "#!ls -a\n",
        "\n",
        "\n",
        "\n",
        "#!pip install git-lfs"
      ],
      "execution_count": 51,
      "outputs": [
        {
          "output_type": "stream",
          "text": [
            ".   .config  .envhuggingfacelearningcolab  sample_data\n",
            "..  .env     finetuned-bert-mrpc\n"
          ],
          "name": "stdout"
        }
      ]
    },
    {
      "cell_type": "code",
      "metadata": {
        "id": "5j9k0UrvUkvv"
      },
      "source": [
        "import transformers"
      ],
      "execution_count": 2,
      "outputs": []
    },
    {
      "cell_type": "code",
      "metadata": {
        "colab": {
          "base_uri": "https://localhost:8080/"
        },
        "id": "YFyq2PRzU0-l",
        "outputId": "9a744fc7-424b-4015-af72-a292aa367caf"
      },
      "source": [
        "!source /content/theanoEnv/bin/activate; pip install transformers[sentencepiece]"
      ],
      "execution_count": 2,
      "outputs": [
        {
          "output_type": "stream",
          "text": [
            "#!/bin/bash source /content/theanoEnv/bin/activate\n",
            "Collecting transformers[sentencepiece]\n",
            "  Downloading transformers-4.9.2-py3-none-any.whl (2.6 MB)\n",
            "\u001b[K     |████████████████████████████████| 2.6 MB 7.9 MB/s \n",
            "\u001b[?25hCollecting sacremoses\n",
            "  Downloading sacremoses-0.0.45-py3-none-any.whl (895 kB)\n",
            "\u001b[K     |████████████████████████████████| 895 kB 44.6 MB/s \n",
            "\u001b[?25hCollecting tokenizers<0.11,>=0.10.1\n",
            "  Downloading tokenizers-0.10.3-cp37-cp37m-manylinux_2_5_x86_64.manylinux1_x86_64.manylinux_2_12_x86_64.manylinux2010_x86_64.whl (3.3 MB)\n",
            "\u001b[K     |████████████████████████████████| 3.3 MB 60.3 MB/s \n",
            "\u001b[?25hRequirement already satisfied: requests in /usr/local/lib/python3.7/dist-packages (from transformers[sentencepiece]) (2.23.0)\n",
            "Requirement already satisfied: regex!=2019.12.17 in /usr/local/lib/python3.7/dist-packages (from transformers[sentencepiece]) (2019.12.20)\n",
            "Requirement already satisfied: numpy>=1.17 in /usr/local/lib/python3.7/dist-packages (from transformers[sentencepiece]) (1.19.5)\n",
            "Collecting pyyaml>=5.1\n",
            "  Downloading PyYAML-5.4.1-cp37-cp37m-manylinux1_x86_64.whl (636 kB)\n",
            "\u001b[K     |████████████████████████████████| 636 kB 76.4 MB/s \n",
            "\u001b[?25hRequirement already satisfied: importlib-metadata in /usr/local/lib/python3.7/dist-packages (from transformers[sentencepiece]) (4.6.4)\n",
            "Requirement already satisfied: tqdm>=4.27 in /usr/local/lib/python3.7/dist-packages (from transformers[sentencepiece]) (4.62.0)\n",
            "Collecting huggingface-hub==0.0.12\n",
            "  Downloading huggingface_hub-0.0.12-py3-none-any.whl (37 kB)\n",
            "Requirement already satisfied: packaging in /usr/local/lib/python3.7/dist-packages (from transformers[sentencepiece]) (21.0)\n",
            "Requirement already satisfied: filelock in /usr/local/lib/python3.7/dist-packages (from transformers[sentencepiece]) (3.0.12)\n",
            "Requirement already satisfied: protobuf in /usr/local/lib/python3.7/dist-packages (from transformers[sentencepiece]) (3.17.3)\n",
            "Collecting sentencepiece==0.1.91\n",
            "  Downloading sentencepiece-0.1.91-cp37-cp37m-manylinux1_x86_64.whl (1.1 MB)\n",
            "\u001b[K     |████████████████████████████████| 1.1 MB 61.3 MB/s \n",
            "\u001b[?25hRequirement already satisfied: typing-extensions in /usr/local/lib/python3.7/dist-packages (from huggingface-hub==0.0.12->transformers[sentencepiece]) (3.7.4.3)\n",
            "Requirement already satisfied: pyparsing>=2.0.2 in /usr/local/lib/python3.7/dist-packages (from packaging->transformers[sentencepiece]) (2.4.7)\n",
            "Requirement already satisfied: zipp>=0.5 in /usr/local/lib/python3.7/dist-packages (from importlib-metadata->transformers[sentencepiece]) (3.5.0)\n",
            "Requirement already satisfied: six>=1.9 in /usr/local/lib/python3.7/dist-packages (from protobuf->transformers[sentencepiece]) (1.15.0)\n",
            "Requirement already satisfied: urllib3!=1.25.0,!=1.25.1,<1.26,>=1.21.1 in /usr/local/lib/python3.7/dist-packages (from requests->transformers[sentencepiece]) (1.24.3)\n",
            "Requirement already satisfied: certifi>=2017.4.17 in /usr/local/lib/python3.7/dist-packages (from requests->transformers[sentencepiece]) (2021.5.30)\n",
            "Requirement already satisfied: chardet<4,>=3.0.2 in /usr/local/lib/python3.7/dist-packages (from requests->transformers[sentencepiece]) (3.0.4)\n",
            "Requirement already satisfied: idna<3,>=2.5 in /usr/local/lib/python3.7/dist-packages (from requests->transformers[sentencepiece]) (2.10)\n",
            "Requirement already satisfied: joblib in /usr/local/lib/python3.7/dist-packages (from sacremoses->transformers[sentencepiece]) (1.0.1)\n",
            "Requirement already satisfied: click in /usr/local/lib/python3.7/dist-packages (from sacremoses->transformers[sentencepiece]) (7.1.2)\n",
            "Installing collected packages: tokenizers, sacremoses, pyyaml, huggingface-hub, transformers, sentencepiece\n",
            "  Attempting uninstall: pyyaml\n",
            "    Found existing installation: PyYAML 3.13\n",
            "    Uninstalling PyYAML-3.13:\n",
            "      Successfully uninstalled PyYAML-3.13\n",
            "Successfully installed huggingface-hub-0.0.12 pyyaml-5.4.1 sacremoses-0.0.45 sentencepiece-0.1.91 tokenizers-0.10.3 transformers-4.9.2\n"
          ],
          "name": "stdout"
        }
      ]
    },
    {
      "cell_type": "code",
      "metadata": {
        "colab": {
          "base_uri": "https://localhost:8080/"
        },
        "id": "5r0ldOijdfOd",
        "outputId": "a31c1f3e-4197-41ec-e1b7-d513b5967005"
      },
      "source": [
        "! source /content/theanoEnv/bin/activate;   from transformers import AutoTokenizer; checkpoint = \"distilbert-base-uncased-finetuned-sst-2-english\"; tokenizer = AutoTokenizer.from_pretrained(checkpoint); which python"
      ],
      "execution_count": 3,
      "outputs": [
        {
          "output_type": "stream",
          "text": [
            "/bin/bash: -c: line 0: syntax error near unexpected token `('\n",
            "/bin/bash: -c: line 0: `echo '#!/bin/bash' source /content/theanoEnv/bin/activate; from transformers import AutoTokenizer; checkpoint = \"distilbert-base-uncased-finetuned-sst-2-english\"; tokenizer = AutoTokenizer.from_pretrained(checkpoint); which python'\n"
          ],
          "name": "stdout"
        }
      ]
    },
    {
      "cell_type": "code",
      "metadata": {
        "id": "hS448sPSiD_a",
        "colab": {
          "base_uri": "https://localhost:8080/"
        },
        "outputId": "6b780d1f-caa2-4890-a179-c256683c70cb"
      },
      "source": [
        "!source /content/theanoEnv/bin/activate; raw_inputs = [\"I've been waiting for a HuggingFace course my whole life.\",  \"I hate this so much!\",]; inputs = tokenizer(raw_inputs, padding=True, truncation=True, return_tensors=\"pt\"); print(inputs)\n"
      ],
      "execution_count": 112,
      "outputs": [
        {
          "output_type": "stream",
          "text": [
            "/bin/bash: -c: line 0: syntax error near unexpected token `('\n",
            "/bin/bash: -c: line 0: `source /content/theanoEnv/bin/activate; raw_inputs = [\"I've been waiting for a HuggingFace course my whole life.\",  \"I hate this so much!\"]; inputs = tokenizer(raw_inputs, padding=True, truncation=True, return_tensors=\"pt\"); print(inputs)'\n"
          ],
          "name": "stdout"
        }
      ]
    },
    {
      "cell_type": "code",
      "metadata": {
        "colab": {
          "base_uri": "https://localhost:8080/"
        },
        "id": "t6oOxUPCiR4Z",
        "outputId": "cff199af-8c4a-4a63-89f0-523055989347"
      },
      "source": [
        "!source /content/theanoEnv/bin/activate ; transformers-cli login\n",
        "#huggingface-cli login if huggingface is installed in our environment\n",
        "\n"
      ],
      "execution_count": 78,
      "outputs": [
        {
          "output_type": "stream",
          "text": [
            "None of PyTorch, TensorFlow >= 2.0, or Flax have been found. Models won't be available and only tokenizers, configuration and file/data utilities can be used.\n",
            "\n",
            "        _|    _|  _|    _|    _|_|_|    _|_|_|  _|_|_|  _|      _|    _|_|_|      _|_|_|_|    _|_|      _|_|_|  _|_|_|_|\n",
            "        _|    _|  _|    _|  _|        _|          _|    _|_|    _|  _|            _|        _|    _|  _|        _|\n",
            "        _|_|_|_|  _|    _|  _|  _|_|  _|  _|_|    _|    _|  _|  _|  _|  _|_|      _|_|_|    _|_|_|_|  _|        _|_|_|\n",
            "        _|    _|  _|    _|  _|    _|  _|    _|    _|    _|    _|_|  _|    _|      _|        _|    _|  _|        _|\n",
            "        _|    _|    _|_|      _|_|_|    _|_|_|  _|_|_|  _|      _|    _|_|_|      _|        _|    _|    _|_|_|  _|_|_|_|\n",
            "\n",
            "        \n",
            "Username: oumeima\n",
            "Password: \n",
            "Login successful\n",
            "Your token: IdlHLMifuinaYGfKtmyBFlCKpztZaHklVWKqXdqRoEUskQkVjXntXYrAfMLLOusJwpovVMlBEDqTqnlEHwHlkdBbAZnyveUmAOAnIxSUOVQZqHiqjqRNMlsJJgyTmGBk \n",
            "\n",
            "Your token has been saved to /root/.huggingface/token\n"
          ],
          "name": "stdout"
        }
      ]
    },
    {
      "cell_type": "code",
      "metadata": {
        "colab": {
          "base_uri": "https://localhost:8080/"
        },
        "id": "sWhtE2bX5wNp",
        "outputId": "1db0a7c8-b03e-412c-afa2-f763acf21f37"
      },
      "source": [
        " !source /content/theanoEnv/bin/activate;from transformers import AutoModelForMaskedLM, AutoTokenizer; checkpoint = \"camembert-base\"; model = AutoModelForMaskedLM.from_pretrained(checkpoint); tokenizer = AutoTokenizer.from_pretrained(checkpoint)"
      ],
      "execution_count": 113,
      "outputs": [
        {
          "output_type": "stream",
          "text": [
            "/bin/bash: -c: line 0: syntax error near unexpected token `('\n",
            "/bin/bash: -c: line 0: `source /content/theanoEnv/bin/activate;from transformers import AutoModelForMaskedLM, AutoTokenizer; checkpoint = \"camembert-base\"; model = AutoModelForMaskedLM.from_pretrained(checkpoint); tokenizer = AutoTokenizer.from_pretrained(checkpoint)'\n"
          ],
          "name": "stdout"
        }
      ]
    },
    {
      "cell_type": "code",
      "metadata": {
        "colab": {
          "base_uri": "https://localhost:8080/"
        },
        "id": "uoZCrOyb50Dp",
        "outputId": "52e7cb8f-df05-4f41-de13-3f47541de9e5"
      },
      "source": [
        "!source /content/theanoEnv/bin/activate ; python -m pip install --upgrade pip\n"
      ],
      "execution_count": 114,
      "outputs": [
        {
          "output_type": "stream",
          "text": [
            "Requirement already satisfied: pip in /content/theanoEnv/lib/python3.7/site-packages (21.2.4)\n"
          ],
          "name": "stdout"
        }
      ]
    },
    {
      "cell_type": "code",
      "metadata": {
        "colab": {
          "base_uri": "https://localhost:8080/"
        },
        "id": "uSIEIrGqZC34",
        "outputId": "1e6fde31-72f7-411c-c7ba-10db0716b1b9"
      },
      "source": [
        "!source /content/theanoEnv/bin/activate ; pip install datasets transformers[sentencepiece]"
      ],
      "execution_count": 115,
      "outputs": [
        {
          "output_type": "stream",
          "text": [
            "Requirement already satisfied: datasets in /content/theanoEnv/lib/python3.7/site-packages (1.11.0)\n",
            "Requirement already satisfied: transformers[sentencepiece] in /content/theanoEnv/lib/python3.7/site-packages (4.9.2)\n",
            "Requirement already satisfied: requests>=2.19.0 in /content/theanoEnv/lib/python3.7/site-packages (from datasets) (2.26.0)\n",
            "Requirement already satisfied: pyarrow!=4.0.0,>=1.0.0 in /content/theanoEnv/lib/python3.7/site-packages (from datasets) (5.0.0)\n",
            "Requirement already satisfied: huggingface-hub<0.1.0 in /content/theanoEnv/lib/python3.7/site-packages (from datasets) (0.0.12)\n",
            "Requirement already satisfied: dill in /content/theanoEnv/lib/python3.7/site-packages (from datasets) (0.3.4)\n",
            "Requirement already satisfied: fsspec>=2021.05.0 in /content/theanoEnv/lib/python3.7/site-packages (from datasets) (2021.7.0)\n",
            "Requirement already satisfied: xxhash in /content/theanoEnv/lib/python3.7/site-packages (from datasets) (2.0.2)\n",
            "Requirement already satisfied: numpy>=1.17 in /content/theanoEnv/lib/python3.7/site-packages (from datasets) (1.21.2)\n",
            "Requirement already satisfied: multiprocess in /content/theanoEnv/lib/python3.7/site-packages (from datasets) (0.70.12.2)\n",
            "Requirement already satisfied: packaging in /content/theanoEnv/lib/python3.7/site-packages (from datasets) (21.0)\n",
            "Requirement already satisfied: pandas in /content/theanoEnv/lib/python3.7/site-packages (from datasets) (1.3.2)\n",
            "Requirement already satisfied: tqdm>=4.42 in /content/theanoEnv/lib/python3.7/site-packages (from datasets) (4.62.1)\n",
            "Requirement already satisfied: importlib-metadata in /content/theanoEnv/lib/python3.7/site-packages (from datasets) (4.6.4)\n",
            "Requirement already satisfied: filelock in /content/theanoEnv/lib/python3.7/site-packages (from transformers[sentencepiece]) (3.0.12)\n",
            "Requirement already satisfied: sacremoses in /content/theanoEnv/lib/python3.7/site-packages (from transformers[sentencepiece]) (0.0.45)\n",
            "Requirement already satisfied: pyyaml>=5.1 in /content/theanoEnv/lib/python3.7/site-packages (from transformers[sentencepiece]) (5.4.1)\n",
            "Requirement already satisfied: tokenizers<0.11,>=0.10.1 in /content/theanoEnv/lib/python3.7/site-packages (from transformers[sentencepiece]) (0.10.3)\n",
            "Requirement already satisfied: regex!=2019.12.17 in /content/theanoEnv/lib/python3.7/site-packages (from transformers[sentencepiece]) (2021.8.21)\n",
            "Requirement already satisfied: sentencepiece==0.1.91 in /content/theanoEnv/lib/python3.7/site-packages (from transformers[sentencepiece]) (0.1.91)\n",
            "Requirement already satisfied: protobuf in /content/theanoEnv/lib/python3.7/site-packages (from transformers[sentencepiece]) (3.17.3)\n",
            "Requirement already satisfied: typing-extensions in /content/theanoEnv/lib/python3.7/site-packages (from huggingface-hub<0.1.0->datasets) (3.10.0.0)\n",
            "Requirement already satisfied: pyparsing>=2.0.2 in /content/theanoEnv/lib/python3.7/site-packages (from packaging->datasets) (2.4.7)\n",
            "Requirement already satisfied: charset-normalizer~=2.0.0 in /content/theanoEnv/lib/python3.7/site-packages (from requests>=2.19.0->datasets) (2.0.4)\n",
            "Requirement already satisfied: urllib3<1.27,>=1.21.1 in /content/theanoEnv/lib/python3.7/site-packages (from requests>=2.19.0->datasets) (1.26.6)\n",
            "Requirement already satisfied: idna<4,>=2.5 in /content/theanoEnv/lib/python3.7/site-packages (from requests>=2.19.0->datasets) (3.2)\n",
            "Requirement already satisfied: certifi>=2017.4.17 in /content/theanoEnv/lib/python3.7/site-packages (from requests>=2.19.0->datasets) (2021.5.30)\n",
            "Requirement already satisfied: zipp>=0.5 in /content/theanoEnv/lib/python3.7/site-packages (from importlib-metadata->datasets) (3.5.0)\n",
            "Requirement already satisfied: pytz>=2017.3 in /content/theanoEnv/lib/python3.7/site-packages (from pandas->datasets) (2021.1)\n",
            "Requirement already satisfied: python-dateutil>=2.7.3 in /content/theanoEnv/lib/python3.7/site-packages (from pandas->datasets) (2.8.2)\n",
            "Requirement already satisfied: six>=1.5 in /content/theanoEnv/lib/python3.7/site-packages (from python-dateutil>=2.7.3->pandas->datasets) (1.16.0)\n",
            "Requirement already satisfied: click in /content/theanoEnv/lib/python3.7/site-packages (from sacremoses->transformers[sentencepiece]) (8.0.1)\n",
            "Requirement already satisfied: joblib in /content/theanoEnv/lib/python3.7/site-packages (from sacremoses->transformers[sentencepiece]) (1.0.1)\n"
          ],
          "name": "stdout"
        }
      ]
    },
    {
      "cell_type": "code",
      "metadata": {
        "colab": {
          "base_uri": "https://localhost:8080/"
        },
        "id": "Etcvb0dtZbZ1",
        "outputId": "c01a9af7-be57-4fac-f4c9-7702c4aa5770"
      },
      "source": [
        "!source /content/theanoEnv/bin/activate ; import numpy as np; from datasets import load_dataset, load_metric; from transformers import (AutoModelForSequenceClassification, AutoTokenizer, DataCollatorWithPadding,Trainer,TrainingArguments,)"
      ],
      "execution_count": 116,
      "outputs": [
        {
          "output_type": "stream",
          "text": [
            "/bin/bash: -c: line 0: syntax error near unexpected token `('\n",
            "/bin/bash: -c: line 0: `source /content/theanoEnv/bin/activate ; import numpy as np; from datasets import load_dataset, load_metric; from transformers import (AutoModelForSequenceClassification, AutoTokenizer, DataCollatorWithPadding,Trainer,TrainingArguments,)'\n"
          ],
          "name": "stdout"
        }
      ]
    },
    {
      "cell_type": "code",
      "metadata": {
        "id": "MpdKlnrD_r9Y"
      },
      "source": [
        ""
      ],
      "execution_count": null,
      "outputs": []
    },
    {
      "cell_type": "code",
      "metadata": {
        "id": "iiF5500RaaT-"
      },
      "source": [
        " checkpoint = \"bert-base-cased\""
      ],
      "execution_count": 84,
      "outputs": []
    },
    {
      "cell_type": "code",
      "metadata": {
        "colab": {
          "base_uri": "https://localhost:8080/"
        },
        "id": "2-oRFjNgaxyK",
        "outputId": "9ae68551-710c-4d13-ccff-94e8aa048140"
      },
      "source": [
        "!source /content/theanoEnv/bin/activate ; raw_datasets = load_dataset(\"glue\", \"mrpc\"); tokenizer = AutoTokenizer.from_pretrained(checkpoint); (def tokenize_function(examples):return tokenizer(examples[\"sentence1\"], examples[\"sentence2\"], truncation=True)); tokenized_datasets = raw_datasets.map(tokenize_function, batched=True); model = AutoModelForSequenceClassification.from_pretrained(checkpoint, num_labels=2); training_args = TrainingArguments(\"finetuned-bert-mrpc\", per_device_train_batch_size=16, per_device_eval_batch_size=16,learning_rate=2e-5, weight_decay=0.01, evaluation_strategy=\"epoch\",logging_strategy=\"epoch\", log_level=\"error\", push_to_hub=True, push_to_hub_model_id=\"finetuned-bert-mrpc\", push_to_hub_token=\"IdlHLMifuinaYGfKtmyBFlCKpztZaHklVWKqXdqRoEUskQkVjXntXYrAfMLLOusJwpovVMlBEDqTqnlEHwHlkdBbAZnyveUmAOAnIxSUOVQZqHiqjqRNMlsJJgyTmGBk ); data_collator = DataCollatorWithPadding(tokenizer); metric = load_metric(\"glue\", \"mrpc\"); (def compute_metrics(eval_preds): logits, labels = eval_preds; predictions = np.argmax(logits, axis=-1); return metric.compute(predictions=predictions, references=labels))"
      ],
      "execution_count": 117,
      "outputs": [
        {
          "output_type": "stream",
          "text": [
            "/bin/bash: -c: line 0: syntax error near unexpected token `('\n",
            "/bin/bash: -c: line 0: `source /content/theanoEnv/bin/activate ; raw_datasets = load_dataset(\"glue\", \"mrpc\"); tokenizer = AutoTokenizer.from_pretrained(checkpoint); (def tokenize_function(examples):return tokenizer(examples[\"sentence1\"], examples[\"sentence2\"], truncation=True)); tokenized_datasets = raw_datasets.map(tokenize_function, batched=True); model = AutoModelForSequenceClassification.from_pretrained(checkpoint, num_labels=2); training_args = TrainingArguments(\"finetuned-bert-mrpc\", per_device_train_batch_size=16, per_device_eval_batch_size=16,learning_rate=2e-5, weight_decay=0.01, evaluation_strategy=\"epoch\",logging_strategy=\"epoch\", log_level=\"error\", push_to_hub=True, push_to_hub_model_id=\"finetuned-bert-mrpc\", push_to_hub_token=\"IdlHLMifuinaYGfKtmyBFlCKpztZaHklVWKqXdqRoEUskQkVjXntXYrAfMLLOusJwpovVMlBEDqTqnlEHwHlkdBbAZnyveUmAOAnIxSUOVQZqHiqjqRNMlsJJgyTmGBk ); data_collator = DataCollatorWithPadding(tokenizer); metric = load_metric(\"glue\", \"mrpc\"); (def compute_metrics(eval_preds): logits, labels = eval_preds; predictions = np.argmax(logits, axis=-1); return metric.compute(predictions=predictions, references=labels))'\n"
          ],
          "name": "stdout"
        }
      ]
    },
    {
      "cell_type": "code",
      "metadata": {
        "colab": {
          "base_uri": "https://localhost:8080/"
        },
        "id": "yG2gflQWJt2z",
        "outputId": "55e1b688-4768-417a-cb4d-436aa02e5d12"
      },
      "source": [
        "#/usr/local/lib/python3.7/dist-packages/... \n",
        "!source /content/theanoEnv/bin/activate  python -m pip install --upgrade pip; pip install git-lfs ;apt-get install git-lfs \n",
        "# git lfs install\n",
        "#cp /usr/local/lib/python3.7/dist-packages/git-lfs     /usr/local/lib/python3.7/dist-packages/huggingface_hub/ \n",
        "     \n"
      ],
      "execution_count": 2,
      "outputs": [
        {
          "output_type": "stream",
          "text": [
            "/bin/bash: /content/theanoEnv/bin/activate: No such file or directory\n",
            "Requirement already satisfied: git-lfs in /usr/local/lib/python3.7/dist-packages (1.6)\n",
            "\u001b[33mWARNING: Running pip as the 'root' user can result in broken permissions and conflicting behaviour with the system package manager. It is recommended to use a virtual environment instead: https://pip.pypa.io/warnings/venv\u001b[0m\n",
            "Reading package lists... Done\n",
            "Building dependency tree       \n",
            "Reading state information... Done\n",
            "git-lfs is already the newest version (2.3.4-1).\n",
            "The following package was automatically installed and is no longer required:\n",
            "  libnvidia-common-460\n",
            "Use 'apt autoremove' to remove it.\n",
            "0 upgraded, 0 newly installed, 0 to remove and 40 not upgraded.\n"
          ],
          "name": "stdout"
        }
      ]
    },
    {
      "cell_type": "code",
      "metadata": {
        "id": "U_IaHcX5aGrU"
      },
      "source": [
        "#import os\n",
        "#import shutil\n",
        "\n",
        "#os.listdir('/usr/local/lib/python3.7/dist-packages')\n",
        "\n",
        "#shutil.copy('/usr/local/lib/python3.7/dist-packages/git-lfs', '/usr/local/lib/python3.7/dist-packages/huggingface_hub/')"
      ],
      "execution_count": null,
      "outputs": []
    },
    {
      "cell_type": "markdown",
      "metadata": {
        "id": "LY48moKFM7LA"
      },
      "source": [
        "try to construct an environment first for that work to get rid of such errors."
      ]
    },
    {
      "cell_type": "code",
      "metadata": {
        "colab": {
          "base_uri": "https://localhost:8080/"
        },
        "id": "H0HcNKiKayNH",
        "outputId": "355b7226-81e9-4490-a669-e881bdbc1a7f"
      },
      "source": [
        "!source /content/theanoEnv/bin/activate ; trainer = Trainer( model, training_args, train_dataset=tokenized_datasets[\"train\"], eval_dataset=tokenized_datasets[\"validation\"],data_collator=data_collator, tokenizer=tokenizer, compute_metrics=compute_metrics,)"
      ],
      "execution_count": 119,
      "outputs": [
        {
          "output_type": "stream",
          "text": [
            "/bin/bash: -c: line 0: syntax error near unexpected token `('\n",
            "/bin/bash: -c: line 0: `source /content/theanoEnv/bin/activate ; trainer = Trainer( model, training_args, train_dataset=tokenized_datasets[\"train\"], eval_dataset=tokenized_datasets[\"validation\"],data_collator=data_collator, tokenizer=tokenizer, compute_metrics=compute_metrics,)'\n"
          ],
          "name": "stdout"
        }
      ]
    },
    {
      "cell_type": "code",
      "metadata": {
        "colab": {
          "base_uri": "https://localhost:8080/"
        },
        "id": "vnYVOaBna5Qa",
        "outputId": "967caaaa-b31a-41aa-ed28-84e21a01ab57"
      },
      "source": [
        "!source /content/theanoEnv/bin/activate; trainer.train(); \n",
        "! which python"
      ],
      "execution_count": 128,
      "outputs": [
        {
          "output_type": "stream",
          "text": [
            "/bin/bash: -c: line 0: syntax error near unexpected token `;'\n",
            "/bin/bash: -c: line 0: `source /content/theanoEnv/bin/activate; trainer.train(); '\n",
            "/usr/local/bin/python\n"
          ],
          "name": "stdout"
        }
      ]
    },
    {
      "cell_type": "markdown",
      "metadata": {
        "id": "nDjwfvPwmiTF"
      },
      "source": [
        "# **Push to hub from the Trainer directly**\n"
      ]
    },
    {
      "cell_type": "markdown",
      "metadata": {
        "id": "d57HAayYnDVh"
      },
      "source": [
        "The Trainer has a new method to directly upload the model, tokenizer and model configuration in a repo on the Hub. It will even auto-generate a model card  \n",
        "draft using the hyperparameters and evaluation results!\n"
      ]
    },
    {
      "cell_type": "code",
      "metadata": {
        "colab": {
          "base_uri": "https://localhost:8080/"
        },
        "id": "TjOffTdGmuSm",
        "outputId": "9eca6112-d72a-45c7-cf81-ca16e196639f"
      },
      "source": [
        " !source /content/theanoEnv/bin/activate ; trainer.push_to_hub()"
      ],
      "execution_count": 97,
      "outputs": [
        {
          "output_type": "stream",
          "text": [
            "/bin/bash: -c: line 1: syntax error: unexpected end of file\n"
          ],
          "name": "stdout"
        }
      ]
    },
    {
      "cell_type": "markdown",
      "metadata": {
        "id": "FP1t3QELo_iE"
      },
      "source": [
        "If you are using your own training loop, you can push the model and tokenizer separately (and you will have to write the model card yourself):\n"
      ]
    },
    {
      "cell_type": "code",
      "metadata": {
        "id": "QpxuC8JgpG9q"
      },
      "source": [
        "# model.push_to_hub(\"finetuned-bert-mrpc\")\n",
        "# tokenizer.push_to_hub(\"finetuned-bert-mrpc\")"
      ],
      "execution_count": null,
      "outputs": []
    }
  ]
}