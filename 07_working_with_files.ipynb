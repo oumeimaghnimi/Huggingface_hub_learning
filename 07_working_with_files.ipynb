{
  "nbformat": 4,
  "nbformat_minor": 0,
  "metadata": {
    "colab": {
      "name": "07_working_with_files.ipynb",
      "provenance": [],
      "collapsed_sections": [],
      "include_colab_link": true
    },
    "kernelspec": {
      "name": "python3",
      "display_name": "Python 3"
    }
  },
  "cells": [
    {
      "cell_type": "markdown",
      "metadata": {
        "id": "view-in-github",
        "colab_type": "text"
      },
      "source": [
        "<a href=\"https://colab.research.google.com/github/oumeimaghnimi/Huggingface_hub_learning/blob/master/07_working_with_files.ipynb\" target=\"_parent\"><img src=\"https://colab.research.google.com/assets/colab-badge.svg\" alt=\"Open In Colab\"/></a>"
      ]
    },
    {
      "cell_type": "markdown",
      "metadata": {
        "id": "vpIKwXbwgdFQ"
      },
      "source": [
        "# Working with Files in Python"
      ]
    },
    {
      "cell_type": "markdown",
      "metadata": {
        "id": "cI6KWUnSiTXy"
      },
      "source": [
        "## Python's Built-in Functions\n",
        "* Use the built-in open( ) function to open a file. The open() function returns a file object, which has a read() method for reading the content of the file.\n",
        "* Close the file when you are finish with it.\n",
        "* There are four different methods for opening a file.\n",
        "* \"r\" - Default value. Opens a file for reading.\n",
        "* \"a\" - Opens a file for appending, creates the file if it does not exist.\n",
        "* \"w\" - Opens a file for writing, creates the file if it does not exist.\n",
        "* \"x\" - Creates the specified file, returns an error if the file exists.\n",
        "* Use os.remove( ) function to delete a file.\n",
        "* Use os.rmdir( ) function to delete an entire folder.  \n"
      ]
    },
    {
      "cell_type": "code",
      "metadata": {
        "id": "yaU2sNorl3dC",
        "colab": {
          "base_uri": "https://localhost:8080/"
        },
        "outputId": "4327f841-79eb-4fb7-e7b0-0fd50eb7f497"
      },
      "source": [
        "from google.colab import drive\n",
        "drive.mount('/content/drive')"
      ],
      "execution_count": null,
      "outputs": [
        {
          "output_type": "stream",
          "text": [
            "Drive already mounted at /content/drive; to attempt to forcibly remount, call drive.mount(\"/content/drive\", force_remount=True).\n"
          ],
          "name": "stdout"
        }
      ]
    },
    {
      "cell_type": "code",
      "metadata": {
        "colab": {
          "base_uri": "https://localhost:8080/"
        },
        "id": "d_h58QamhGKH",
        "outputId": "cdfe30fe-c204-4d54-aa8b-e450c5f0465a"
      },
      "source": [
        "f = open('/content/drive/My Drive/fibonacci.py', 'r')\n",
        "print(f.read()) "
      ],
      "execution_count": null,
      "outputs": [
        {
          "output_type": "stream",
          "text": [
            "def fib(m):\n",
            "    a, b = 0, 1\n",
            "    for i in range(m):\n",
            "        print(a)\n",
            "        a, b = b, a+b\n",
            "\n",
            "def fi(n):\n",
            "    L = [0]\n",
            "    a, b = 0, 1\n",
            "    for i in range(n-1):\n",
            "        a, b = b, a+b\n",
            "        L.append(a)\n",
            "    return L\n",
            "\n"
          ],
          "name": "stdout"
        }
      ]
    },
    {
      "cell_type": "code",
      "metadata": {
        "id": "WDffNG1th5sZ"
      },
      "source": [
        "f.close()"
      ],
      "execution_count": null,
      "outputs": []
    },
    {
      "cell_type": "markdown",
      "metadata": {
        "id": "LjA9hWprXP0Q"
      },
      "source": [
        "## The os Module and other Modules\n",
        "* The os module contains functions to get information on local directories, files, processes, and environment variables.\n",
        "* os.getcwd( ): gets current working directory\n",
        "* os.chdir( ): changes the current working directory\n",
        "* os.path.join( ): adds an extra slash to the pathname before joining it to the filename.\n",
        "* os.path.split( ): splits full pathnames, directory names, and filenames into their constituent parts.\n",
        "* os.path.splitext( ): splits a filename and returns a tuple containing the f_name and the file extension.\n",
        "* os.listdir( ): lists all files and subdirectories in the directory.\n",
        "* os.path.isfile( ): only lists files and not subdirectories.\n",
        "* os.path.isdir( ): only lists subdirectories and not files.\n",
        "* os.mkdir( ): creates a single subdirectory.\n",
        "* os.mkdirs( ): creates directory trees.\n",
        "* os.remove( ): deletes a file and does not delete folders.\n",
        "* os.rmdir( ): deletes a single folder.\n",
        "* shutil.copy(src, dst): copys the file scr to the directory dst.\n",
        "* shutil.move(src, dst): moves src to dst.\n",
        "* shutil.make_archive(base_name, format, root_dir): creates an archive.\n",
        "* shutil.unmake)archive\n",
        "\n",
        "\n",
        "\n",
        "\n",
        "\n",
        "\n"
      ]
    },
    {
      "cell_type": "code",
      "metadata": {
        "colab": {
          "base_uri": "https://localhost:8080/"
        },
        "id": "n9r9V6eWXPI4",
        "outputId": "dc42c6c0-d827-4177-8fdf-a3a1fde0db6c"
      },
      "source": [
        "import os\n",
        "print(os.getcwd())"
      ],
      "execution_count": null,
      "outputs": [
        {
          "output_type": "stream",
          "text": [
            "/content\n"
          ],
          "name": "stdout"
        }
      ]
    },
    {
      "cell_type": "code",
      "metadata": {
        "id": "IC3ZS_GwYRnh"
      },
      "source": [
        "os.chdir('/content/drive/My Drive')"
      ],
      "execution_count": null,
      "outputs": []
    },
    {
      "cell_type": "code",
      "metadata": {
        "colab": {
          "base_uri": "https://localhost:8080/",
          "height": 36
        },
        "id": "bpLDDAQFYlTJ",
        "outputId": "79d7069a-627f-4b85-c32d-ce1593548317"
      },
      "source": [
        "pwd"
      ],
      "execution_count": null,
      "outputs": [
        {
          "output_type": "execute_result",
          "data": {
            "application/vnd.google.colaboratory.intrinsic+json": {
              "type": "string"
            },
            "text/plain": [
              "'/content/drive/My Drive'"
            ]
          },
          "metadata": {
            "tags": []
          },
          "execution_count": 6
        }
      ]
    },
    {
      "cell_type": "code",
      "metadata": {
        "colab": {
          "base_uri": "https://localhost:8080/"
        },
        "id": "5D_fFDQeY1dj",
        "outputId": "87299ac4-26d6-46ea-c0aa-7e05e13cc951"
      },
      "source": [
        "print(os.path.join('/content/drive/My Drive', 'fibonacci.py'))"
      ],
      "execution_count": null,
      "outputs": [
        {
          "output_type": "stream",
          "text": [
            "/content/drive/My Drive/fibonacci.py\n"
          ],
          "name": "stdout"
        }
      ]
    },
    {
      "cell_type": "code",
      "metadata": {
        "colab": {
          "base_uri": "https://localhost:8080/"
        },
        "id": "sKmnSUEhY_tS",
        "outputId": "ff40164a-4ad2-43e5-84e9-39026f9a2885"
      },
      "source": [
        "path1 = '/content/drive/My Drive/fibonacci.py'\n",
        "os.path.split(path1)"
      ],
      "execution_count": null,
      "outputs": [
        {
          "output_type": "execute_result",
          "data": {
            "text/plain": [
              "('/content/drive/My Drive', 'fibonacci.py')"
            ]
          },
          "metadata": {
            "tags": []
          },
          "execution_count": 8
        }
      ]
    },
    {
      "cell_type": "code",
      "metadata": {
        "colab": {
          "base_uri": "https://localhost:8080/"
        },
        "id": "hSonMz3dZcum",
        "outputId": "14d52212-484c-4391-e49f-e041f986b8cb"
      },
      "source": [
        "(dirname, filename) = os.path.split('/content/drive/My Drive/fibonacci.py')\n",
        "print(dirname)\n",
        "print(filename)"
      ],
      "execution_count": null,
      "outputs": [
        {
          "output_type": "stream",
          "text": [
            "/content/drive/My Drive\n",
            "fibonacci.py\n"
          ],
          "name": "stdout"
        }
      ]
    },
    {
      "cell_type": "code",
      "metadata": {
        "colab": {
          "base_uri": "https://localhost:8080/"
        },
        "id": "CC64tH0BZofq",
        "outputId": "d1a1c66b-7c0c-4972-e7a8-0f2579d8f44d"
      },
      "source": [
        "(f_name, extension) = os.path.splitext('/content/drive/My Drive/breccia.zip')\n",
        "print(f_name)\n",
        "print(extension)"
      ],
      "execution_count": null,
      "outputs": [
        {
          "output_type": "stream",
          "text": [
            "/content/drive/My Drive/breccia\n",
            ".zip\n"
          ],
          "name": "stdout"
        }
      ]
    },
    {
      "cell_type": "code",
      "metadata": {
        "colab": {
          "base_uri": "https://localhost:8080/"
        },
        "id": "Av3l4_jVblBc",
        "outputId": "2b8462f8-fba0-4ad9-8c19-b211883f1c09"
      },
      "source": [
        "os.listdir('/content/drive/My Drive')"
      ],
      "execution_count": null,
      "outputs": [
        {
          "output_type": "execute_result",
          "data": {
            "text/plain": [
              "['Colab Notebooks',\n",
              " 'Data',\n",
              " 'breccia.zip',\n",
              " 'w_2020',\n",
              " 'breccia',\n",
              " 'breccia_jpg',\n",
              " 'breccia_crop',\n",
              " 'fibonacci.py',\n",
              " 'test.txt.zip']"
            ]
          },
          "metadata": {
            "tags": []
          },
          "execution_count": 11
        }
      ]
    },
    {
      "cell_type": "code",
      "metadata": {
        "colab": {
          "base_uri": "https://localhost:8080/"
        },
        "id": "KRiLcYNPln8e",
        "outputId": "76733b95-5d06-4102-cbf0-8c1a9a035a1f"
      },
      "source": [
        "# Listing all files in a directory \n",
        "path2 = '/content/drive/My Drive'\n",
        "for item in os.listdir(path2):\n",
        "    if os.path.isfile(os.path.join(path2,item)):\n",
        "        print(item)"
      ],
      "execution_count": null,
      "outputs": [
        {
          "output_type": "stream",
          "text": [
            "breccia.zip\n",
            "fibonacci.py\n",
            "test.txt.zip\n"
          ],
          "name": "stdout"
        }
      ]
    },
    {
      "cell_type": "code",
      "metadata": {
        "colab": {
          "base_uri": "https://localhost:8080/"
        },
        "id": "kc5S6w0AwF5l",
        "outputId": "f3344067-da6e-410f-b8ff-9c16c0b6d0e8"
      },
      "source": [
        "# Listing all subdirectories in a directory\n",
        "path3 = '/content/drive/My Drive'\n",
        "for entry in os.listdir(path3):\n",
        "    if os.path.isdir(os.path.join(path3, entry)):\n",
        "        print(entry)\n"
      ],
      "execution_count": null,
      "outputs": [
        {
          "output_type": "stream",
          "text": [
            "Colab Notebooks\n",
            "Data\n",
            "w_2020\n",
            "breccia\n",
            "breccia_jpg\n",
            "breccia_crop\n"
          ],
          "name": "stdout"
        }
      ]
    },
    {
      "cell_type": "code",
      "metadata": {
        "id": "3OST_aAA2pvy"
      },
      "source": [
        "os.chdir('/content/drive/My Drive')"
      ],
      "execution_count": null,
      "outputs": []
    },
    {
      "cell_type": "code",
      "metadata": {
        "colab": {
          "base_uri": "https://localhost:8080/",
          "height": 36
        },
        "id": "yVyGCYCg2s0I",
        "outputId": "eb06d71e-ee4c-4cad-8b5e-a7ea714bc9ab"
      },
      "source": [
        "pwd"
      ],
      "execution_count": null,
      "outputs": [
        {
          "output_type": "execute_result",
          "data": {
            "application/vnd.google.colaboratory.intrinsic+json": {
              "type": "string"
            },
            "text/plain": [
              "'/content/drive/My Drive'"
            ]
          },
          "metadata": {
            "tags": []
          },
          "execution_count": 15
        }
      ]
    },
    {
      "cell_type": "code",
      "metadata": {
        "id": "CK-W-qT6dY4c"
      },
      "source": [
        "os.mkdir ('aa')"
      ],
      "execution_count": null,
      "outputs": []
    },
    {
      "cell_type": "code",
      "metadata": {
        "id": "zzIHqWsD3BKh"
      },
      "source": [
        "os.makedirs('a/b/c')"
      ],
      "execution_count": null,
      "outputs": []
    },
    {
      "cell_type": "code",
      "metadata": {
        "colab": {
          "base_uri": "https://localhost:8080/"
        },
        "id": "a65nW7dqd2Bt",
        "outputId": "da66861b-8e89-4c71-f970-8c138f92b000"
      },
      "source": [
        "os.listdir('/content/drive/My Drive')"
      ],
      "execution_count": null,
      "outputs": [
        {
          "output_type": "execute_result",
          "data": {
            "text/plain": [
              "['Colab Notebooks',\n",
              " 'Data',\n",
              " 'breccia.zip',\n",
              " 'w_2020',\n",
              " 'breccia',\n",
              " 'breccia_jpg',\n",
              " 'breccia_crop',\n",
              " 'fibonacci.py',\n",
              " 'test.txt.zip',\n",
              " 'aa',\n",
              " 'a']"
            ]
          },
          "metadata": {
            "tags": []
          },
          "execution_count": 18
        }
      ]
    },
    {
      "cell_type": "code",
      "metadata": {
        "colab": {
          "base_uri": "https://localhost:8080/"
        },
        "id": "RXnkTXv73dIM",
        "outputId": "77fd736b-60d3-4a29-f63e-3242c18d2925"
      },
      "source": [
        "# Finding all files in a directory with .py file extension.\n",
        "for f_name in os.listdir('/content/drive/My Drive'):\n",
        "    if f_name.endswith('.py'):\n",
        "        print(f_name)"
      ],
      "execution_count": null,
      "outputs": [
        {
          "output_type": "stream",
          "text": [
            "fibonacci.py\n"
          ],
          "name": "stdout"
        }
      ]
    },
    {
      "cell_type": "code",
      "metadata": {
        "id": "RbASm2zceEM7"
      },
      "source": [
        "f1 = open('/content/drive/My Drive/a/f1.txt', 'w')"
      ],
      "execution_count": null,
      "outputs": []
    },
    {
      "cell_type": "code",
      "metadata": {
        "colab": {
          "base_uri": "https://localhost:8080/"
        },
        "id": "JMdim9V2ebE1",
        "outputId": "fa28d9fe-12fc-4555-96f9-f8f2437c8632"
      },
      "source": [
        "print(f1)"
      ],
      "execution_count": null,
      "outputs": [
        {
          "output_type": "stream",
          "text": [
            "<_io.TextIOWrapper name='/content/drive/My Drive/a/f1.txt' mode='w' encoding='UTF-8'>\n"
          ],
          "name": "stdout"
        }
      ]
    },
    {
      "cell_type": "code",
      "metadata": {
        "colab": {
          "base_uri": "https://localhost:8080/"
        },
        "id": "b7-Hbj74erBK",
        "outputId": "c3d9a82d-f739-4040-f4c2-b0480b3580a8"
      },
      "source": [
        "os.listdir('/content/drive/My Drive/a')"
      ],
      "execution_count": null,
      "outputs": [
        {
          "output_type": "execute_result",
          "data": {
            "text/plain": [
              "['b', 'f1.txt']"
            ]
          },
          "metadata": {
            "tags": []
          },
          "execution_count": 22
        }
      ]
    },
    {
      "cell_type": "code",
      "metadata": {
        "id": "mNqzwSF0eydr"
      },
      "source": [
        "os.remove('/content/drive/My Drive/a/f1.txt')"
      ],
      "execution_count": null,
      "outputs": []
    },
    {
      "cell_type": "code",
      "metadata": {
        "colab": {
          "base_uri": "https://localhost:8080/"
        },
        "id": "2HHwI3ere3i-",
        "outputId": "890f698c-5263-4c64-cda0-9f7ec5dba816"
      },
      "source": [
        "os.listdir('/content/drive/My Drive/a')"
      ],
      "execution_count": null,
      "outputs": [
        {
          "output_type": "execute_result",
          "data": {
            "text/plain": [
              "['b']"
            ]
          },
          "metadata": {
            "tags": []
          },
          "execution_count": 24
        }
      ]
    },
    {
      "cell_type": "code",
      "metadata": {
        "id": "ROfUkrnse75b"
      },
      "source": [
        "os.rmdir('/content/drive/My Drive/a/b/c')"
      ],
      "execution_count": null,
      "outputs": []
    },
    {
      "cell_type": "code",
      "metadata": {
        "colab": {
          "base_uri": "https://localhost:8080/"
        },
        "id": "oUTWSfSFfJY4",
        "outputId": "7f2b994c-1817-4f93-a459-ce576974afb7"
      },
      "source": [
        "os.listdir('/content/drive/My Drive/a/b')"
      ],
      "execution_count": null,
      "outputs": [
        {
          "output_type": "execute_result",
          "data": {
            "text/plain": [
              "[]"
            ]
          },
          "metadata": {
            "tags": []
          },
          "execution_count": 26
        }
      ]
    },
    {
      "cell_type": "code",
      "metadata": {
        "colab": {
          "base_uri": "https://localhost:8080/",
          "height": 36
        },
        "id": "cvU-EG1bf-kX",
        "outputId": "24479c64-fa17-4769-f5da-b43fd13a5540"
      },
      "source": [
        "import shutil\n",
        "shutil.copy('/content/drive/My Drive/fibonacci.py', '/content/drive/My Drive/aa')"
      ],
      "execution_count": null,
      "outputs": [
        {
          "output_type": "execute_result",
          "data": {
            "application/vnd.google.colaboratory.intrinsic+json": {
              "type": "string"
            },
            "text/plain": [
              "'/content/drive/My Drive/aa/fibonacci.py'"
            ]
          },
          "metadata": {
            "tags": []
          },
          "execution_count": 27
        }
      ]
    },
    {
      "cell_type": "code",
      "metadata": {
        "colab": {
          "base_uri": "https://localhost:8080/"
        },
        "id": "TjCT2RcLgK4C",
        "outputId": "cf51b7b7-ad74-491e-870e-8be97733a782"
      },
      "source": [
        "os.listdir('/content/drive/My Drive/aa')"
      ],
      "execution_count": null,
      "outputs": [
        {
          "output_type": "execute_result",
          "data": {
            "text/plain": [
              "['fibonacci.py']"
            ]
          },
          "metadata": {
            "tags": []
          },
          "execution_count": 28
        }
      ]
    },
    {
      "cell_type": "code",
      "metadata": {
        "colab": {
          "base_uri": "https://localhost:8080/",
          "height": 36
        },
        "id": "9gUqqHwXgPA4",
        "outputId": "53f8f69e-cf2d-408a-8ccf-fc18bf58ffd2"
      },
      "source": [
        "shutil.move('/content/drive/My Drive/a/b', '/content/drive/My Drive/aa')"
      ],
      "execution_count": null,
      "outputs": [
        {
          "output_type": "execute_result",
          "data": {
            "application/vnd.google.colaboratory.intrinsic+json": {
              "type": "string"
            },
            "text/plain": [
              "'/content/drive/My Drive/aa/b'"
            ]
          },
          "metadata": {
            "tags": []
          },
          "execution_count": 29
        }
      ]
    },
    {
      "cell_type": "code",
      "metadata": {
        "colab": {
          "base_uri": "https://localhost:8080/"
        },
        "id": "TtDUNLMdgtY0",
        "outputId": "14d58434-3d80-43e2-c024-f0f947f00931"
      },
      "source": [
        "os.listdir('/content/drive/My Drive/aa')"
      ],
      "execution_count": null,
      "outputs": [
        {
          "output_type": "execute_result",
          "data": {
            "text/plain": [
              "['b', 'fibonacci.py']"
            ]
          },
          "metadata": {
            "tags": []
          },
          "execution_count": 30
        }
      ]
    },
    {
      "cell_type": "code",
      "metadata": {
        "id": "19sLhCi0hyMw"
      },
      "source": [
        "shutil.unpack_archive('/content/drive/My Drive/test.txt.zip', '/content/drive/My Drive')"
      ],
      "execution_count": null,
      "outputs": []
    },
    {
      "cell_type": "code",
      "metadata": {
        "colab": {
          "base_uri": "https://localhost:8080/"
        },
        "id": "yS3hD10PiXlR",
        "outputId": "5ff19b60-fc99-4bea-ad10-83c151a81a53"
      },
      "source": [
        "os.listdir('/content/drive/My Drive')"
      ],
      "execution_count": null,
      "outputs": [
        {
          "output_type": "execute_result",
          "data": {
            "text/plain": [
              "['Colab Notebooks',\n",
              " 'Data',\n",
              " 'breccia.zip',\n",
              " 'w_2020',\n",
              " 'breccia',\n",
              " 'breccia_jpg',\n",
              " 'breccia_crop',\n",
              " 'fibonacci.py',\n",
              " 'test.txt.zip',\n",
              " 'aa',\n",
              " 'a',\n",
              " 'test.txt',\n",
              " '__MACOSX']"
            ]
          },
          "metadata": {
            "tags": []
          },
          "execution_count": 32
        }
      ]
    }
  ]
}